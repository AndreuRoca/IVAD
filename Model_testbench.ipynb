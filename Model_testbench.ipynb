{
 "cells": [
  {
   "cell_type": "markdown",
   "metadata": {},
   "source": [
    "# Model testbench\n",
    "\n",
    "\n",
    "In this jupyter notebook I have all the model tests documented. Written in Python3 and SKlearn. Don't \"run all\" this notebook. It's computationally complex and can take a very long time to complete.\n",
    "\n",
    "Dependences: \\\n",
    "-Numpy  \\\n",
    "-Pandas \\\n",
    "-Matplotlib \\\n",
    "-ScyPy \\\n",
    "-Sklearn \\\n",
    "-Lightgbm "
   ]
  },
  {
   "cell_type": "code",
   "execution_count": 2,
   "metadata": {},
   "outputs": [],
   "source": [
    "import numpy as np\n",
    "import pandas as pd\n",
    "import matplotlib.pyplot as plt\n",
    "from sklearn.tree import DecisionTreeClassifier\n",
    "from sklearn.linear_model import LogisticRegression\n",
    "from sklearn.model_selection import train_test_split\n",
    "from sklearn.svm import LinearSVC, SVC\n",
    "from sklearn.pipeline import make_pipeline\n",
    "from sklearn.preprocessing import StandardScaler\n",
    "from sklearn.neighbors import KNeighborsClassifier,NeighborhoodComponentsAnalysis, NearestCentroid\n",
    "from sklearn.model_selection import GridSearchCV\n",
    "from sklearn.decomposition import PCA, KernelPCA, IncrementalPCA\n",
    "from sklearn.ensemble import RandomForestClassifier, AdaBoostClassifier, GradientBoostingClassifier\n",
    "import lightgbm as lgb\n",
    "from scipy.fft import fft, ifft\n",
    "from sklearn.naive_bayes import GaussianNB, MultinomialNB, ComplementNB, BernoulliNB, CategoricalNB\n",
    "from sklearn.metrics import roc_auc_score, f1_score"
   ]
  },
  {
   "cell_type": "code",
   "execution_count": 3,
   "metadata": {},
   "outputs": [
    {
     "data": {
      "text/plain": [
       "(301, 12003)"
      ]
     },
     "execution_count": 3,
     "metadata": {},
     "output_type": "execute_result"
    }
   ],
   "source": [
    "dataset = pd.read_csv(\"dataset.csv\")\n",
    "y=dataset.iloc[:,-1]\n",
    "X=dataset.iloc[:,:-1]\n",
    "X_train, X_test, y_train, y_test = train_test_split(X, y, test_size=0.30)\n",
    "dataset.shape"
   ]
  },
  {
   "cell_type": "markdown",
   "metadata": {},
   "source": [
    "## Basic classifications (baseline)"
   ]
  },
  {
   "cell_type": "code",
   "execution_count": 124,
   "metadata": {},
   "outputs": [
    {
     "data": {
      "text/plain": [
       "(0.7912087912087912, 0.9473690734094266, 0.7912087912087912)"
      ]
     },
     "execution_count": 124,
     "metadata": {},
     "output_type": "execute_result"
    }
   ],
   "source": [
    "clf = LogisticRegression(random_state=0, penalty='none').fit(X_train, y_train)\n",
    "y_test_prediction=clf.predict_proba(X_test)\n",
    "y_test_class=clf.predict(X_test)\n",
    "clf.score(X_test, y_test), roc_auc_score(y_test, y_test_prediction,multi_class='ovr'), f1_score(y_test,y_test_class,average='micro')"
   ]
  },
  {
   "cell_type": "code",
   "execution_count": 127,
   "metadata": {},
   "outputs": [
    {
     "data": {
      "text/plain": [
       "(0.8021978021978022, 0.8021978021978022)"
      ]
     },
     "execution_count": 127,
     "metadata": {},
     "output_type": "execute_result"
    }
   ],
   "source": [
    "clf2=LinearSVC(penalty='l2',random_state=0, tol=1e-5,max_iter=9000,C=1,loss='squared_hinge').fit(X_train,y_train)\n",
    "y_test_class=clf2.predict(X_test)\n",
    "clf2.score(X_test, y_test), f1_score(y_test,y_test_class,average='micro')"
   ]
  },
  {
   "cell_type": "code",
   "execution_count": 17,
   "metadata": {},
   "outputs": [
    {
     "data": {
      "text/plain": [
       "0.4444444444444444"
      ]
     },
     "execution_count": 17,
     "metadata": {},
     "output_type": "execute_result"
    }
   ],
   "source": [
    "clf3 = KNeighborsClassifier(n_neighbors=7).fit(X_train, y_train)\n",
    "clf3.score(X_test, y_test)"
   ]
  },
  {
   "cell_type": "code",
   "execution_count": 18,
   "metadata": {},
   "outputs": [
    {
     "name": "stdout",
     "output_type": "stream",
     "text": [
      "0.6222222222222222 1\n"
     ]
    }
   ],
   "source": [
    "sc=0\n",
    "iteration=0\n",
    "for neig in range(1,200):\n",
    "    clf3 = KNeighborsClassifier(n_neighbors=neig).fit(X_train, y_train)\n",
    "    if sc<clf3.score(X_test,y_test):\n",
    "        sc=clf3.score(X_test,y_test)\n",
    "        iteration=neig\n",
    "print (sc, iteration)"
   ]
  },
  {
   "cell_type": "code",
   "execution_count": 19,
   "metadata": {},
   "outputs": [
    {
     "name": "stdout",
     "output_type": "stream",
     "text": [
      "0.6444444444444445 1\n"
     ]
    }
   ],
   "source": [
    "red5=PCA(.90)\n",
    "X_train_PCA=red5.fit_transform(X_train)\n",
    "X_test_PCA=red5.transform(X_test)\n",
    "sc=0\n",
    "iteration=0\n",
    "for neig in range(1,200):\n",
    "    clf3 = KNeighborsClassifier(n_neighbors=neig).fit(X_train_PCA, y_train)\n",
    "    if sc<clf3.score(X_test_PCA,y_test):\n",
    "        sc=clf3.score(X_test_PCA,y_test)\n",
    "        iteration=neig\n",
    "print (sc, iteration)"
   ]
  },
  {
   "cell_type": "code",
   "execution_count": 128,
   "metadata": {},
   "outputs": [
    {
     "data": {
      "text/plain": [
       "(0.8461538461538461, 0.9893147930753768, 0.8461538461538461)"
      ]
     },
     "execution_count": 128,
     "metadata": {},
     "output_type": "execute_result"
    }
   ],
   "source": [
    "clf4 = LogisticRegression(random_state=0, max_iter=10000)\n",
    "params=([{'penalty': ['none'], 'solver': ['newton-cg', 'lbfgs', 'sag','saga']},\n",
    "        {'penalty': ['l2'], 'solver': ['newton-cg', 'lbfgs', 'sag','saga','liblinear']},\n",
    "        {'penalty': ['l1'], 'solver': ['liblinear', 'saga']},])\n",
    "gs=GridSearchCV(clf4,params).fit(X_train,y_train)\n",
    "y_test_prediction=gs.predict_proba(X_test)\n",
    "y_test_class=gs.predict(X_test)\n",
    "gs.score(X_test, y_test), roc_auc_score(y_test, y_test_prediction,multi_class='ovr'), f1_score(y_test,y_test_class,average='micro')"
   ]
  },
  {
   "cell_type": "code",
   "execution_count": 131,
   "metadata": {},
   "outputs": [
    {
     "data": {
      "text/plain": [
       "(LogisticRegression(max_iter=10000, random_state=0, solver='newton-cg'),\n",
       " 4,\n",
       " {'penalty': 'l2', 'solver': 'newton-cg'},\n",
       " 0.8571428571428571)"
      ]
     },
     "execution_count": 131,
     "metadata": {},
     "output_type": "execute_result"
    }
   ],
   "source": [
    "gs.best_estimator_, gs.best_index_, gs.best_params_, gs.best_score_"
   ]
  },
  {
   "cell_type": "markdown",
   "metadata": {},
   "source": [
    "## SVC"
   ]
  },
  {
   "cell_type": "code",
   "execution_count": 139,
   "metadata": {},
   "outputs": [
    {
     "data": {
      "text/plain": [
       "0.7692307692307693"
      ]
     },
     "execution_count": 139,
     "metadata": {},
     "output_type": "execute_result"
    }
   ],
   "source": [
    "clf4=LinearSVC(penalty='l2',random_state=0, tol=1e-5,max_iter=9000,C=2,loss='squared_hinge').fit(X_train,y_train)\n",
    "clf4.score(X_test, y_test)"
   ]
  },
  {
   "cell_type": "code",
   "execution_count": 42,
   "metadata": {},
   "outputs": [
    {
     "data": {
      "text/plain": [
       "(SVC(C=10, gamma=0.0001, random_state=1),\n",
       " {'C': 10, 'gamma': 0.0001, 'kernel': 'rbf'},\n",
       " 0.8619047619047618)"
      ]
     },
     "execution_count": 42,
     "metadata": {},
     "output_type": "execute_result"
    }
   ],
   "source": [
    "clf6 = SVC(random_state=1, kernel='rbf', C=80, gamma=0.0001).fit(X_train,y_train)\n",
    "clf6.score(X_test, y_test)\n",
    "param_grid = [\n",
    "  {'C': [1, 10, 100, 1000], 'kernel': ['linear']},\n",
    "  {'C': [1, 10, 100, 1000], 'gamma': [0.001, 0.0001], 'kernel': ['rbf']},\n",
    " ]\n",
    "gs=GridSearchCV(clf6,param_grid).fit(X_train,y_train)\n",
    "gs.best_estimator_, gs.best_params_, gs.best_score_"
   ]
  },
  {
   "cell_type": "code",
   "execution_count": 43,
   "metadata": {},
   "outputs": [
    {
     "data": {
      "text/plain": [
       "(SVC(C=40, gamma=0.0001, random_state=1),\n",
       " {'C': 40, 'gamma': 0.0001, 'kernel': 'rbf'},\n",
       " 0.8936065573770492)"
      ]
     },
     "execution_count": 43,
     "metadata": {},
     "output_type": "execute_result"
    }
   ],
   "source": [
    "param_grid = [\n",
    "  {'C': [40,100,400], 'gamma': [0.001, 0.0001, 0.00001], 'kernel': ['rbf']},\n",
    " ]\n",
    "\n",
    "gs2=GridSearchCV(clf6,param_grid).fit(X,y)\n",
    "gs2.best_estimator_, gs2.best_params_, gs2.best_score_"
   ]
  },
  {
   "cell_type": "code",
   "execution_count": 4,
   "metadata": {},
   "outputs": [
    {
     "data": {
      "text/plain": [
       "(LinearSVC(C=1, loss='hinge'), {'C': 1, 'loss': 'hinge'}, 0.7604918032786886)"
      ]
     },
     "execution_count": 4,
     "metadata": {},
     "output_type": "execute_result"
    }
   ],
   "source": [
    "param_grid3= [\n",
    "  {'C': [1,10,80,100,400,1000], 'loss': ['hinge','squared_hinge']},]\n",
    "gs3=GridSearchCV(LinearSVC(), param_grid3).fit(X,y)\n",
    "gs3.best_estimator_, gs3.best_params_, gs3.best_score_"
   ]
  },
  {
   "cell_type": "code",
   "execution_count": 45,
   "metadata": {},
   "outputs": [
    {
     "data": {
      "text/plain": [
       "0.9010989010989011"
      ]
     },
     "execution_count": 45,
     "metadata": {},
     "output_type": "execute_result"
    }
   ],
   "source": [
    "red=PCA(.90)\n",
    "X_train_PCA=red.fit_transform(X_train)\n",
    "X_test_PCA=red.transform(X_test)\n",
    "\n",
    "clf5 = SVC(random_state=1, kernel='rbf', C=80, gamma=0.0001).fit(X_train,y_train)\n",
    "clf5.score(X_test, y_test)"
   ]
  },
  {
   "cell_type": "code",
   "execution_count": 46,
   "metadata": {},
   "outputs": [
    {
     "data": {
      "text/plain": [
       "(SVC(C=40, gamma=0.001, random_state=1), 0.8285714285714285)"
      ]
     },
     "execution_count": 46,
     "metadata": {},
     "output_type": "execute_result"
    }
   ],
   "source": [
    "red2=KernelPCA(.90)\n",
    "X_train_KPCA=red.fit_transform(X_train)\n",
    "X_test_KPCA=red.transform(X_test)\n",
    "param_grid = [{'C': [40,100,400], 'gamma': [0.001, 0.0001, 0.00001], 'kernel': ['rbf']},]\n",
    "gs4=GridSearchCV(clf5,param_grid).fit(X_train_KPCA,y_train)\n",
    "gs4.best_estimator_, gs4.best_score_"
   ]
  },
  {
   "cell_type": "code",
   "execution_count": 47,
   "metadata": {},
   "outputs": [
    {
     "data": {
      "text/plain": [
       "(SVC(C=40, gamma=1e-05),\n",
       " 0.8714285714285713,\n",
       " {'C': 40, 'gamma': 1e-05, 'kernel': 'rbf'})"
      ]
     },
     "execution_count": 47,
     "metadata": {},
     "output_type": "execute_result"
    }
   ],
   "source": [
    "red4=PCA(.90)\n",
    "sc=StandardScaler()\n",
    "X_train_sc=sc.fit_transform(X_train)\n",
    "X_test_sc=sc.transform(X_test)\n",
    "X_train_PCA=red4.fit_transform(X_train_sc)\n",
    "X_test_PCA=red4.transform(X_test_sc)\n",
    "sc=StandardScaler()\n",
    "sc.fit_transform(X_train)\n",
    "sc.transform(X_test)\n",
    "clf6=SVC()\n",
    "param_grid = [{'C': [0.1, 40, 100, 400], 'gamma': [0.001, 0.0001, 0.00001], 'kernel': ['rbf']},\n",
    "              {'C': [0.1, 40, 100, 400], 'kernel': ['linear'], 'gamma': [0.001, 0.0001, 0.00001]},\n",
    "              {'C': [0.1, 40, 100, 400], 'kernel': ['poly'], 'gamma': [0.001, 0.0001, 0.00001],},]\n",
    "\n",
    "gs=GridSearchCV(clf6,param_grid).fit(X_train_PCA,y_train)\n",
    "gs.best_estimator_, gs.best_score_, gs.best_params_"
   ]
  },
  {
   "cell_type": "code",
   "execution_count": 48,
   "metadata": {},
   "outputs": [
    {
     "data": {
      "text/plain": [
       "(LinearSVC(C=0.1, loss='hinge', max_iter=5000),\n",
       " 0.8142857142857143,\n",
       " {'C': 0.1, 'loss': 'hinge', 'penalty': 'l2'})"
      ]
     },
     "execution_count": 48,
     "metadata": {},
     "output_type": "execute_result"
    }
   ],
   "source": [
    "red4=PCA()\n",
    "sc2=StandardScaler()\n",
    "X_train_sc=sc2.fit_transform(X_train)\n",
    "X_test_sc=sc2.transform(X_test)\n",
    "X_train_PCA=red4.fit_transform(X_train_sc)\n",
    "X_test_PCA=red4.transform(X_test_sc)\n",
    "\n",
    "clf6=LinearSVC(max_iter=5000)\n",
    "param_grid = [{'C': [0.1, 40, 100, 400], 'penalty': ['l2'], 'loss': ['hinge','squared_hinge']},]\n",
    "gs=GridSearchCV(clf6,param_grid).fit(X_train_PCA,y_train)\n",
    "gs.best_estimator_, gs.best_score_, gs.best_params_"
   ]
  },
  {
   "cell_type": "markdown",
   "metadata": {},
   "source": [
    "## Ensemble methods"
   ]
  },
  {
   "cell_type": "code",
   "execution_count": 6,
   "metadata": {},
   "outputs": [],
   "source": [
    "dataset = pd.read_csv(\"dataset.csv\")\n",
    "y=dataset.iloc[:,-1]\n",
    "X=dataset.iloc[:,:-1]\n",
    "X_train, X_test, y_train, y_test = train_test_split(X, y, test_size=0.30)"
   ]
  },
  {
   "cell_type": "code",
   "execution_count": 52,
   "metadata": {},
   "outputs": [
    {
     "data": {
      "text/plain": [
       "0.8021978021978022"
      ]
     },
     "execution_count": 52,
     "metadata": {},
     "output_type": "execute_result"
    }
   ],
   "source": [
    "ensemble1=RandomForestClassifier().fit(X_train, y_train)\n",
    "ensemble1.score(X_test, y_test)"
   ]
  },
  {
   "cell_type": "code",
   "execution_count": 53,
   "metadata": {},
   "outputs": [
    {
     "data": {
      "text/plain": [
       "0.6703296703296703"
      ]
     },
     "execution_count": 53,
     "metadata": {},
     "output_type": "execute_result"
    }
   ],
   "source": [
    "ensemble2=AdaBoostClassifier().fit(X_train, y_train)\n",
    "ensemble2.score(X_test, y_test)"
   ]
  },
  {
   "cell_type": "code",
   "execution_count": 5,
   "metadata": {},
   "outputs": [
    {
     "data": {
      "text/plain": [
       "0.9010989010989011"
      ]
     },
     "execution_count": 5,
     "metadata": {},
     "output_type": "execute_result"
    }
   ],
   "source": [
    "ensemble3=GradientBoostingClassifier().fit(X_train, y_train)\n",
    "ensemble3.score(X_test,y_test)"
   ]
  },
  {
   "cell_type": "code",
   "execution_count": 55,
   "metadata": {},
   "outputs": [],
   "source": [
    "red4=PCA(0.95)\n",
    "X_train_PCA=red4.fit_transform(X_train)\n",
    "X_test_PCA=red4.transform(X_test)"
   ]
  },
  {
   "cell_type": "code",
   "execution_count": 56,
   "metadata": {},
   "outputs": [
    {
     "data": {
      "text/plain": [
       "0.9120879120879121"
      ]
     },
     "execution_count": 56,
     "metadata": {},
     "output_type": "execute_result"
    }
   ],
   "source": [
    "ensemble1=RandomForestClassifier().fit(X_train_PCA, y_train)\n",
    "ensemble1.score(X_test_PCA, y_test)"
   ]
  },
  {
   "cell_type": "code",
   "execution_count": 57,
   "metadata": {},
   "outputs": [
    {
     "data": {
      "text/plain": [
       "0.7362637362637363"
      ]
     },
     "execution_count": 57,
     "metadata": {},
     "output_type": "execute_result"
    }
   ],
   "source": [
    "ensemble2=AdaBoostClassifier().fit(X_train_PCA, y_train)\n",
    "ensemble2.score(X_test_PCA, y_test)"
   ]
  },
  {
   "cell_type": "code",
   "execution_count": 58,
   "metadata": {},
   "outputs": [
    {
     "data": {
      "text/plain": [
       "0.8571428571428571"
      ]
     },
     "execution_count": 58,
     "metadata": {},
     "output_type": "execute_result"
    }
   ],
   "source": [
    "ensemble3=GradientBoostingClassifier().fit(X_train_PCA, y_train)\n",
    "ensemble3.score(X_test_PCA,y_test)"
   ]
  },
  {
   "cell_type": "code",
   "execution_count": 59,
   "metadata": {},
   "outputs": [
    {
     "data": {
      "text/plain": [
       "(301, 12003)"
      ]
     },
     "execution_count": 59,
     "metadata": {},
     "output_type": "execute_result"
    }
   ],
   "source": [
    "dataset = pd.read_csv(\"dataset.csv\")\n",
    "y=dataset.iloc[:,-1]\n",
    "X=dataset.iloc[:,:-1]\n",
    "X_train, X_test, y_train, y_test = train_test_split(X, y, test_size=0.30)\n",
    "dataset.shape"
   ]
  },
  {
   "cell_type": "code",
   "execution_count": 60,
   "metadata": {},
   "outputs": [
    {
     "data": {
      "text/plain": [
       "(LGBMClassifier(n_estimators=10000, num_leaves=25),\n",
       " 0.7571428571428571,\n",
       " 10,\n",
       " {'learning_rate': 0.1, 'n_estimators': 10000, 'num_leaves': 25})"
      ]
     },
     "execution_count": 60,
     "metadata": {},
     "output_type": "execute_result"
    }
   ],
   "source": [
    "ensemble4 = lgb.LGBMClassifier()\n",
    "param_grid = {\n",
    "    'num_leaves': [25,28,31,33,35],\n",
    "    'learning_rate': [0.001, 0.01, 0.1, 1],\n",
    "    'n_estimators': [10000] #max\n",
    "}\n",
    "gbm = GridSearchCV(ensemble4, param_grid, cv=3)\n",
    "gbm.fit(X_train, y_train)\n",
    "gbm.best_estimator_, gbm.best_score_, gbm.best_index_, gbm.best_params_"
   ]
  },
  {
   "cell_type": "code",
   "execution_count": 62,
   "metadata": {},
   "outputs": [
    {
     "data": {
      "text/plain": [
       "(LGBMClassifier(num_leaves=21),\n",
       " 0.719047619047619,\n",
       " 6,\n",
       " {'learning_rate': 0.1, 'n_estimators': 100, 'num_leaves': 21})"
      ]
     },
     "execution_count": 62,
     "metadata": {},
     "output_type": "execute_result"
    }
   ],
   "source": [
    "ensemble5 = lgb.LGBMClassifier()\n",
    "param_grid = {\n",
    "    'num_leaves': [21,22,23,24,25,26],\n",
    "    'learning_rate': [0.01, 0.1],\n",
    "    'n_estimators': [100]\n",
    "}\n",
    "gbm2 = GridSearchCV(ensemble5, param_grid, cv=3)\n",
    "gbm2.fit(X_train, y_train)\n",
    "gbm2.best_estimator_, gbm2.best_score_, gbm2.best_index_, gbm2.best_params_"
   ]
  },
  {
   "cell_type": "code",
   "execution_count": 65,
   "metadata": {},
   "outputs": [
    {
     "name": "stdout",
     "output_type": "stream",
     "text": [
      "[1]\tvalid_0's multi_error: 0.692308\tvalid_0's multi_logloss: 1.1015\n",
      "Training until validation scores don't improve for 70 rounds\n",
      "[2]\tvalid_0's multi_error: 0.692308\tvalid_0's multi_logloss: 1.10143\n",
      "[3]\tvalid_0's multi_error: 0.692308\tvalid_0's multi_logloss: 1.10135\n",
      "[4]\tvalid_0's multi_error: 0.692308\tvalid_0's multi_logloss: 1.10127\n",
      "[5]\tvalid_0's multi_error: 0.692308\tvalid_0's multi_logloss: 1.10119\n",
      "[6]\tvalid_0's multi_error: 0.692308\tvalid_0's multi_logloss: 1.10111\n",
      "[7]\tvalid_0's multi_error: 0.692308\tvalid_0's multi_logloss: 1.10104\n",
      "[8]\tvalid_0's multi_error: 0.692308\tvalid_0's multi_logloss: 1.10096\n",
      "[9]\tvalid_0's multi_error: 0.692308\tvalid_0's multi_logloss: 1.10088\n",
      "[10]\tvalid_0's multi_error: 0.692308\tvalid_0's multi_logloss: 1.1008\n",
      "[11]\tvalid_0's multi_error: 0.692308\tvalid_0's multi_logloss: 1.10072\n",
      "[12]\tvalid_0's multi_error: 0.692308\tvalid_0's multi_logloss: 1.10064\n",
      "[13]\tvalid_0's multi_error: 0.692308\tvalid_0's multi_logloss: 1.10057\n",
      "[14]\tvalid_0's multi_error: 0.692308\tvalid_0's multi_logloss: 1.10049\n",
      "[15]\tvalid_0's multi_error: 0.692308\tvalid_0's multi_logloss: 1.10041\n",
      "[16]\tvalid_0's multi_error: 0.692308\tvalid_0's multi_logloss: 1.10033\n",
      "[17]\tvalid_0's multi_error: 0.692308\tvalid_0's multi_logloss: 1.10025\n",
      "[18]\tvalid_0's multi_error: 0.692308\tvalid_0's multi_logloss: 1.10017\n",
      "[19]\tvalid_0's multi_error: 0.692308\tvalid_0's multi_logloss: 1.1001\n",
      "[20]\tvalid_0's multi_error: 0.692308\tvalid_0's multi_logloss: 1.10002\n",
      "[21]\tvalid_0's multi_error: 0.692308\tvalid_0's multi_logloss: 1.09994\n",
      "[22]\tvalid_0's multi_error: 0.692308\tvalid_0's multi_logloss: 1.09986\n",
      "[23]\tvalid_0's multi_error: 0.692308\tvalid_0's multi_logloss: 1.09978\n",
      "[24]\tvalid_0's multi_error: 0.692308\tvalid_0's multi_logloss: 1.09971\n",
      "[25]\tvalid_0's multi_error: 0.692308\tvalid_0's multi_logloss: 1.09963\n",
      "[26]\tvalid_0's multi_error: 0.692308\tvalid_0's multi_logloss: 1.09955\n",
      "[27]\tvalid_0's multi_error: 0.692308\tvalid_0's multi_logloss: 1.09947\n",
      "[28]\tvalid_0's multi_error: 0.692308\tvalid_0's multi_logloss: 1.09939\n",
      "[29]\tvalid_0's multi_error: 0.692308\tvalid_0's multi_logloss: 1.09932\n",
      "[30]\tvalid_0's multi_error: 0.692308\tvalid_0's multi_logloss: 1.09924\n",
      "[31]\tvalid_0's multi_error: 0.692308\tvalid_0's multi_logloss: 1.09916\n",
      "[32]\tvalid_0's multi_error: 0.692308\tvalid_0's multi_logloss: 1.09908\n",
      "[33]\tvalid_0's multi_error: 0.692308\tvalid_0's multi_logloss: 1.099\n",
      "[34]\tvalid_0's multi_error: 0.692308\tvalid_0's multi_logloss: 1.09893\n",
      "[35]\tvalid_0's multi_error: 0.692308\tvalid_0's multi_logloss: 1.09885\n",
      "[36]\tvalid_0's multi_error: 0.692308\tvalid_0's multi_logloss: 1.09877\n",
      "[37]\tvalid_0's multi_error: 0.692308\tvalid_0's multi_logloss: 1.09869\n",
      "[38]\tvalid_0's multi_error: 0.692308\tvalid_0's multi_logloss: 1.09862\n",
      "[39]\tvalid_0's multi_error: 0.692308\tvalid_0's multi_logloss: 1.09854\n",
      "[40]\tvalid_0's multi_error: 0.692308\tvalid_0's multi_logloss: 1.09846\n",
      "[41]\tvalid_0's multi_error: 0.692308\tvalid_0's multi_logloss: 1.09838\n",
      "[42]\tvalid_0's multi_error: 0.692308\tvalid_0's multi_logloss: 1.09831\n",
      "[43]\tvalid_0's multi_error: 0.692308\tvalid_0's multi_logloss: 1.09823\n",
      "[44]\tvalid_0's multi_error: 0.692308\tvalid_0's multi_logloss: 1.09815\n",
      "[45]\tvalid_0's multi_error: 0.692308\tvalid_0's multi_logloss: 1.09807\n",
      "[46]\tvalid_0's multi_error: 0.692308\tvalid_0's multi_logloss: 1.098\n",
      "[47]\tvalid_0's multi_error: 0.692308\tvalid_0's multi_logloss: 1.09792\n",
      "[48]\tvalid_0's multi_error: 0.692308\tvalid_0's multi_logloss: 1.09784\n",
      "[49]\tvalid_0's multi_error: 0.692308\tvalid_0's multi_logloss: 1.09776\n",
      "[50]\tvalid_0's multi_error: 0.692308\tvalid_0's multi_logloss: 1.09769\n",
      "[51]\tvalid_0's multi_error: 0.692308\tvalid_0's multi_logloss: 1.09761\n",
      "[52]\tvalid_0's multi_error: 0.692308\tvalid_0's multi_logloss: 1.09753\n",
      "[53]\tvalid_0's multi_error: 0.692308\tvalid_0's multi_logloss: 1.09745\n",
      "[54]\tvalid_0's multi_error: 0.692308\tvalid_0's multi_logloss: 1.09738\n",
      "[55]\tvalid_0's multi_error: 0.692308\tvalid_0's multi_logloss: 1.0973\n",
      "[56]\tvalid_0's multi_error: 0.692308\tvalid_0's multi_logloss: 1.09722\n",
      "[57]\tvalid_0's multi_error: 0.692308\tvalid_0's multi_logloss: 1.09714\n",
      "[58]\tvalid_0's multi_error: 0.692308\tvalid_0's multi_logloss: 1.09707\n",
      "[59]\tvalid_0's multi_error: 0.692308\tvalid_0's multi_logloss: 1.09699\n",
      "[60]\tvalid_0's multi_error: 0.692308\tvalid_0's multi_logloss: 1.09691\n",
      "[61]\tvalid_0's multi_error: 0.692308\tvalid_0's multi_logloss: 1.09683\n",
      "[62]\tvalid_0's multi_error: 0.692308\tvalid_0's multi_logloss: 1.09676\n",
      "[63]\tvalid_0's multi_error: 0.692308\tvalid_0's multi_logloss: 1.09668\n",
      "[64]\tvalid_0's multi_error: 0.692308\tvalid_0's multi_logloss: 1.0966\n",
      "[65]\tvalid_0's multi_error: 0.692308\tvalid_0's multi_logloss: 1.09653\n",
      "[66]\tvalid_0's multi_error: 0.692308\tvalid_0's multi_logloss: 1.09645\n",
      "[67]\tvalid_0's multi_error: 0.692308\tvalid_0's multi_logloss: 1.09637\n",
      "[68]\tvalid_0's multi_error: 0.692308\tvalid_0's multi_logloss: 1.09629\n",
      "[69]\tvalid_0's multi_error: 0.692308\tvalid_0's multi_logloss: 1.09622\n",
      "[70]\tvalid_0's multi_error: 0.692308\tvalid_0's multi_logloss: 1.09614\n",
      "[71]\tvalid_0's multi_error: 0.692308\tvalid_0's multi_logloss: 1.09606\n",
      "Early stopping, best iteration is:\n",
      "[1]\tvalid_0's multi_error: 0.692308\tvalid_0's multi_logloss: 1.1015\n"
     ]
    },
    {
     "data": {
      "text/plain": [
       "0.3076923076923077"
      ]
     },
     "execution_count": 65,
     "metadata": {},
     "output_type": "execute_result"
    }
   ],
   "source": [
    "gbm = lgb.LGBMClassifier(num_leaves=33,\n",
    "                        learning_rate=0.0001,\n",
    "                        n_estimators=2000,\n",
    "                        max_depth=7)\n",
    "gbm.fit(X_train, y_train,\n",
    "        eval_set=[(X_test, y_test)],\n",
    "        eval_metric=['multi_error','multiclass'],\n",
    "        early_stopping_rounds=70)\n",
    "gbm.score(X_test, y_test)"
   ]
  },
  {
   "cell_type": "code",
   "execution_count": 63,
   "metadata": {},
   "outputs": [
    {
     "data": {
      "text/plain": [
       "(LGBMClassifier(learning_rate=0.01, max_depth=5, num_leaves=40),\n",
       " 0.8523809523809525,\n",
       " 16,\n",
       " {'learning_rate': 0.01,\n",
       "  'max_depth': 5,\n",
       "  'n_estimators': 100,\n",
       "  'num_leaves': 40})"
      ]
     },
     "execution_count": 63,
     "metadata": {},
     "output_type": "execute_result"
    }
   ],
   "source": [
    "red4=PCA(.95)\n",
    "X_train_PCA=red4.fit_transform(X_train)\n",
    "X_test_PCA=red4.transform(X_test)\n",
    "ensemble6 = lgb.LGBMClassifier()\n",
    "param_grid = {\n",
    "    'num_leaves': [40,38,37,34,32,30,28,25],\n",
    "    'learning_rate': [0.01,0.001],\n",
    "    'n_estimators': [100],\n",
    "    'max_depth': [3,4,5,6,7,8,9,10]\n",
    "}\n",
    "gbm3 = GridSearchCV(ensemble6, param_grid, cv=3)\n",
    "gbm3.fit(X_train_PCA, y_train)\n",
    "gbm3.best_estimator_, gbm3.best_score_, gbm3.best_index_, gbm3.best_params_"
   ]
  },
  {
   "cell_type": "markdown",
   "metadata": {},
   "source": [
    "## Naive bayes"
   ]
  },
  {
   "cell_type": "code",
   "execution_count": 31,
   "metadata": {},
   "outputs": [
    {
     "data": {
      "text/plain": [
       "0.6813186813186813"
      ]
     },
     "execution_count": 31,
     "metadata": {},
     "output_type": "execute_result"
    }
   ],
   "source": [
    "nb1=GaussianNB().fit(X_train, y_train)\n",
    "nb1.score(X_test,y_test)"
   ]
  },
  {
   "cell_type": "code",
   "execution_count": 32,
   "metadata": {},
   "outputs": [
    {
     "data": {
      "text/plain": [
       "0.7142857142857143"
      ]
     },
     "execution_count": 32,
     "metadata": {},
     "output_type": "execute_result"
    }
   ],
   "source": [
    "nb2=ComplementNB().fit(X_train, y_train)\n",
    "nb2.score(X_test,y_test)"
   ]
  },
  {
   "cell_type": "code",
   "execution_count": 123,
   "metadata": {},
   "outputs": [
    {
     "data": {
      "text/plain": [
       "(0.9120879120879121, 0.968923484290085, 0.9120879120879121)"
      ]
     },
     "execution_count": 123,
     "metadata": {},
     "output_type": "execute_result"
    }
   ],
   "source": [
    "#0.075\n",
    "nb4=BernoulliNB(alpha=0.075, binarize=0, fit_prior=True).fit(X_train, y_train)\n",
    "y_test_prediction=nb4.predict_proba(X_test)\n",
    "y_test_class=nb4.predict(X_test)\n",
    "nb4.score(X_test,y_test), roc_auc_score(y_test, y_test_prediction,multi_class='ovr'), f1_score(y_test,y_test_class,average='micro')"
   ]
  },
  {
   "cell_type": "code",
   "execution_count": 34,
   "metadata": {},
   "outputs": [
    {
     "data": {
      "text/plain": [
       "0.6813186813186813"
      ]
     },
     "execution_count": 34,
     "metadata": {},
     "output_type": "execute_result"
    }
   ],
   "source": [
    "clf6 = NearestCentroid().fit(X_train, y_train)\n",
    "clf6.score(X_test,y_test)"
   ]
  },
  {
   "cell_type": "code",
   "execution_count": 81,
   "metadata": {},
   "outputs": [],
   "source": [
    "red4=PCA(.95)\n",
    "X_train_PCA=red4.fit_transform(X_train)\n",
    "X_test_PCA=red4.transform(X_test)"
   ]
  },
  {
   "cell_type": "code",
   "execution_count": 87,
   "metadata": {},
   "outputs": [
    {
     "data": {
      "text/plain": [
       "0.8571428571428571"
      ]
     },
     "execution_count": 87,
     "metadata": {},
     "output_type": "execute_result"
    }
   ],
   "source": [
    "nb1=GaussianNB().fit(X_train_PCA, y_train)\n",
    "nb1.score(X_test_PCA,y_test)"
   ]
  },
  {
   "cell_type": "code",
   "execution_count": 92,
   "metadata": {},
   "outputs": [
    {
     "data": {
      "text/plain": [
       "0.7472527472527473"
      ]
     },
     "execution_count": 92,
     "metadata": {},
     "output_type": "execute_result"
    }
   ],
   "source": [
    "nb2=ComplementNB().fit(np.abs(X_train_PCA), y_train)\n",
    "nb2.score(np.abs(X_test_PCA),y_test)"
   ]
  },
  {
   "cell_type": "code",
   "execution_count": 93,
   "metadata": {},
   "outputs": [
    {
     "data": {
      "text/plain": [
       "0.8571428571428571"
      ]
     },
     "execution_count": 93,
     "metadata": {},
     "output_type": "execute_result"
    }
   ],
   "source": [
    "nb4=BernoulliNB(alpha=0.075, binarize=0, fit_prior=True).fit(X_train_PCA, y_train)\n",
    "nb4.score(X_test_PCA,y_test)"
   ]
  },
  {
   "cell_type": "code",
   "execution_count": 94,
   "metadata": {},
   "outputs": [
    {
     "data": {
      "text/plain": [
       "0.7032967032967034"
      ]
     },
     "execution_count": 94,
     "metadata": {},
     "output_type": "execute_result"
    }
   ],
   "source": [
    "clf6 = NearestCentroid().fit(X_train_PCA, y_train)\n",
    "clf6.score(X_test_PCA,y_test)"
   ]
  },
  {
   "cell_type": "code",
   "execution_count": null,
   "metadata": {},
   "outputs": [],
   "source": [
    "#Couldn't run this test in some computers...\n",
    "\n",
    "#nca = NeighborhoodComponentsAnalysis().fit_transform(X_train, y_train) \n",
    "#nca.transform(X_test,y_test)\n",
    "#knn = KNeighborsClassifier(n_neighbors=7).fit(X_train, y_train)\n",
    "#knn.score(X_test, y_test)"
   ]
  },
  {
   "cell_type": "markdown",
   "metadata": {},
   "source": [
    "## Preprocessing: FFT (fast fourier transform)"
   ]
  },
  {
   "cell_type": "code",
   "execution_count": 11,
   "metadata": {},
   "outputs": [
    {
     "data": {
      "text/plain": [
       "(301, 12002)"
      ]
     },
     "execution_count": 11,
     "metadata": {},
     "output_type": "execute_result"
    }
   ],
   "source": [
    "X_fourier=fft(X[0:11999])\n",
    "X_fourier_abs=np.abs(X_fourier)\n",
    "X_fourier=pd.DataFrame.from_records(X_fourier_abs)\n",
    "X_f=pd.concat([X_fourier,X[X.columns[12000]], X[X.columns[12001]]], axis=1, sort=False)\n",
    "X_fourier.shape\n",
    "#from here X_train X_test... Are fourier transformed"
   ]
  },
  {
   "cell_type": "code",
   "execution_count": 12,
   "metadata": {},
   "outputs": [],
   "source": [
    "X_train, X_test, y_train, y_test = train_test_split(X_f, y, test_size=0.30)"
   ]
  },
  {
   "cell_type": "code",
   "execution_count": 14,
   "metadata": {},
   "outputs": [
    {
     "data": {
      "text/plain": [
       "0.8681318681318682"
      ]
     },
     "execution_count": 14,
     "metadata": {},
     "output_type": "execute_result"
    }
   ],
   "source": [
    "clf_fft= LogisticRegression(random_state=0, penalty='none').fit(X_train, y_train)\n",
    "clf_fft.score(X_test, y_test)"
   ]
  },
  {
   "cell_type": "code",
   "execution_count": null,
   "metadata": {},
   "outputs": [],
   "source": [
    "clf2_fft = SVC()\n",
    "param_grid = [\n",
    "  {'C': [1, 10, 100, 1000], 'kernel': ['linear']},\n",
    "  {'C': [1, 10, 100, 1000], 'gamma': [0.001, 0.0001], 'kernel': ['rbf']},\n",
    " ]\n",
    "gs_fft=GridSearchCV(clf2_fft,param_grid).fit(X,y)\n",
    "gs_fft.cv_results_\n",
    "gs_fft.best_score_, gs_fft.best_params_, gs_fft.best_estimator_, gs_fft.best_index_"
   ]
  },
  {
   "cell_type": "code",
   "execution_count": null,
   "metadata": {},
   "outputs": [],
   "source": [
    "clf3_fft = LinearSVC()\n",
    "param_grid = [{'C': [0.5, 1, 10, 100, 1000], 'loss': ['hinge', 'squared_hinge']},]\n",
    "gs2_fft=GridSearchCV(clf3,param_grid).fit(X,y)\n",
    "gs2_fft.best_score_, gs2_fft.best_params_, gs2_fft.best_estimator_, gs2_fft.best_index_"
   ]
  },
  {
   "cell_type": "code",
   "execution_count": 15,
   "metadata": {},
   "outputs": [
    {
     "name": "stdout",
     "output_type": "stream",
     "text": [
      "0.8131868131868132 56\n"
     ]
    }
   ],
   "source": [
    "#KNC n_neighbors iterators to test the best number of it\n",
    "sc=0\n",
    "iteration=0\n",
    "for neig in range(1,200):\n",
    "    clf3 = KNeighborsClassifier(n_neighbors=neig).fit(X_train, y_train)\n",
    "    if sc<clf3.score(X_test,y_test):\n",
    "        sc=clf3.score(X_test,y_test)\n",
    "        iteration=neig\n",
    "print (sc, iteration)"
   ]
  },
  {
   "cell_type": "code",
   "execution_count": 16,
   "metadata": {},
   "outputs": [
    {
     "name": "stdout",
     "output_type": "stream",
     "text": [
      "0.8241758241758241 56\n"
     ]
    }
   ],
   "source": [
    "red5=PCA(.90)\n",
    "X_train_PCA=red5.fit_transform(X_train)\n",
    "X_test_PCA=red5.transform(X_test)\n",
    "sc=0\n",
    "iteration=0\n",
    "for neig in range(1,200):\n",
    "    clf3 = KNeighborsClassifier(n_neighbors=neig).fit(X_train_PCA, y_train)\n",
    "    if sc<clf3.score(X_test_PCA,y_test):\n",
    "        sc=clf3.score(X_test_PCA,y_test)\n",
    "        iteration=neig\n",
    "print (sc, iteration)"
   ]
  },
  {
   "cell_type": "code",
   "execution_count": null,
   "metadata": {},
   "outputs": [],
   "source": [
    "clf_kn_fft= KNeighborsClassifier(iteration).fit(X_train, y_train)\n",
    "clf_kn_fft.score(X_test, y_test)"
   ]
  },
  {
   "cell_type": "code",
   "execution_count": null,
   "metadata": {},
   "outputs": [],
   "source": [
    "nb4=BernoulliNB(alpha=1).fit(X_train, y_train)\n",
    "nb4.score(X_test,y_test)"
   ]
  },
  {
   "cell_type": "code",
   "execution_count": null,
   "metadata": {},
   "outputs": [],
   "source": [
    "clf4_fft = LogisticRegression(random_state=0)\n",
    "params=([{'penalty': ['none'], 'solver': ['newton-cg', 'lbfgs', 'sag','saga']},\n",
    "        {'penalty': ['elasticnet'], 'solver': ['saga']},\n",
    "        {'penalty': ['l2'], 'solver': ['newton-cg', 'lbfgs', 'sag','saga','liblinear']},\n",
    "        {'penalty': ['l1'], 'solver': ['liblinear', 'saga']},])\n",
    "\n",
    "gs=GridSearchCV(clf4_fft,params).fit(X_train,y_train)\n",
    "gs.best_score_, gs.best_estimator_, gs.best_params_"
   ]
  },
  {
   "cell_type": "code",
   "execution_count": null,
   "metadata": {},
   "outputs": [],
   "source": [
    "clf5_fft=LogisticRegression(penalty='none', solver='sag', max_iter=10000).fit(X_train, y_train)\n",
    "clf5_fft.score(X_test, y_test)"
   ]
  },
  {
   "cell_type": "code",
   "execution_count": null,
   "metadata": {},
   "outputs": [],
   "source": [
    "clf6_fft = LogisticRegression(random_state=0, max_iter=10000)\n",
    "params=([{'penalty': ['none'], 'solver': ['newton-cg', 'lbfgs', 'sag','saga']},\n",
    "        {'penalty': ['l2'], 'solver': ['newton-cg', 'lbfgs', 'sag','saga','liblinear'], 'C': [0.1, 1, 100]},\n",
    "        {'penalty': ['l1'], 'solver': ['liblinear', 'saga'], 'C': [0.1, 1, 100]},])\n",
    "\n",
    "gs=GridSearchCV(clf6_fft,params).fit(X_train,y_train)\n",
    "gs.best_score_, gs.best_estimator_, gs.best_params_"
   ]
  },
  {
   "cell_type": "code",
   "execution_count": null,
   "metadata": {},
   "outputs": [],
   "source": [
    "clf6_fft_b=LogisticRegression(random_state=0, max_iter=10000, C=150, penalty'l1', solver='liblinear')"
   ]
  },
  {
   "cell_type": "code",
   "execution_count": null,
   "metadata": {},
   "outputs": [],
   "source": [
    "clf7_fft=LogisticRegression(random_state=0, max_iter=10000, penalty='none', solver='sag', multi_class='multinomial').fit(X_train, y_train)\n",
    "clf8_fft=LogisticRegression(random_state=0, max_iter=10000, penalty='none', solver='sag', multi_class='ovr').fit(X_train, y_train)\n",
    "clf7_fft.score(X_test, y_test), clf8_fft.score(X_test, y_test)"
   ]
  },
  {
   "cell_type": "code",
   "execution_count": null,
   "metadata": {
    "scrolled": true
   },
   "outputs": [],
   "source": [
    "clf10_fft=LogisticRegression(random_state=0, max_iter=10000, penalty='elasticnet', solver='saga')\n",
    "params=([{'multi_class': ['ovr', 'multinomial'], 'l1_ratio':[0, 0.25, 0.5, 0.75, 1]}])\n",
    "gs=GridSearchCV(clf10_fft,params).fit(X_train,y_train)\n",
    "gs.best_score_, gs.best_estimator_, gs.best_params_"
   ]
  },
  {
   "cell_type": "code",
   "execution_count": null,
   "metadata": {},
   "outputs": [],
   "source": [
    "red4=PCA(.95)\n",
    "X_train_PCA=red4.fit_transform(X_train)\n",
    "X_test_PCA=red4.transform(X_test)\n",
    "clf8_fft=LogisticRegression(random_state=0, max_iter=10000, penalty='none', solver='sag', multi_class='ovr').fit(X_train_PCA, y_train)\n",
    "clf8_fft.score(X_test_PCA, y_test)"
   ]
  },
  {
   "cell_type": "code",
   "execution_count": null,
   "metadata": {},
   "outputs": [],
   "source": [
    "clf11_fft_PCA = LogisticRegression(random_state=0, max_iter=10000)\n",
    "params=([{'penalty': ['none'], 'solver': ['newton-cg', 'lbfgs', 'sag','saga']},\n",
    "        {'penalty': ['l2'], 'solver': ['newton-cg', 'sag','saga','liblinear'], 'C': [0.1, 1, 100]},\n",
    "        {'penalty': ['l1'], 'solver': ['liblinear', 'saga'], 'C': [0.1, 1, 100]},])\n",
    "\n",
    "gs=GridSearchCV(clf11_fft_PCA,params).fit(X_train_PCA,y_train)\n",
    "gs.best_score_, gs.best_estimator_, gs.best_params_"
   ]
  },
  {
   "cell_type": "code",
   "execution_count": null,
   "metadata": {},
   "outputs": [],
   "source": [
    "lgbm_fft= lgb.LGBMClassifier()\n",
    "param_grid = {\n",
    "    'num_leaves': [25,28,31,33,35],\n",
    "    'learning_rate': [0.001, 0.01, 0.1, 1],\n",
    "    'n_estimators': [10000] #max\n",
    "}\n",
    "gbm = GridSearchCV(lgbm_fft, param_grid, cv=3)\n",
    "gbm.fit(X_train, y_train)\n",
    "gbm.best_estimator_, gbm.best_score_, gbm.best_index_, gbm.best_params_"
   ]
  },
  {
   "cell_type": "code",
   "execution_count": null,
   "metadata": {},
   "outputs": [],
   "source": [
    "red4=PCA(.95)\n",
    "X_train_PCA=red4.fit_transform(X_train)\n",
    "X_test_PCA=red4.transform(X_test)\n",
    "\n",
    "lgbm_fft_PCA= lgb.LGBMClassifier()\n",
    "param_grid = {\n",
    "    'num_leaves': [25,28,31,33,35],\n",
    "    'learning_rate': [0.001, 0.01, 0.1, 1],\n",
    "    'n_estimators': [10000] #max\n",
    "}\n",
    "gbm = GridSearchCV(lgbm_fft_PCA, param_grid)\n",
    "gbm.fit(X_train_PCA, y_train)\n",
    "gbm.best_estimator_, gbm.best_score_, gbm.best_index_, gbm.best_params_"
   ]
  },
  {
   "cell_type": "code",
   "execution_count": null,
   "metadata": {},
   "outputs": [],
   "source": [
    "red4=PCA(.95)\n",
    "X_train_PCA=red4.fit_transform(X_train)\n",
    "X_test_PCA=red4.transform(X_test)\n",
    "\n",
    "gbm = lgb.LGBMClassifier(num_leaves=15,\n",
    "                        learning_rate=0.001,\n",
    "                        n_estimators=20000)#                        max_depth=10)             \n",
    "gbm.fit(X_train_PCA, y_train,\n",
    "eval_set=[(X_test_PCA, y_test)],\n",
    "eval_metric=['multi_error','multiclass'],\n",
    "early_stopping_rounds=100)\n",
    "\n",
    "\n",
    "gbm.score(X_test_PCA, y_test)"
   ]
  },
  {
   "cell_type": "code",
   "execution_count": null,
   "metadata": {},
   "outputs": [],
   "source": []
  },
  {
   "cell_type": "code",
   "execution_count": null,
   "metadata": {},
   "outputs": [],
   "source": []
  },
  {
   "cell_type": "code",
   "execution_count": null,
   "metadata": {},
   "outputs": [],
   "source": []
  }
 ],
 "metadata": {
  "kernelspec": {
   "display_name": "Python 3",
   "language": "python",
   "name": "python3"
  },
  "language_info": {
   "codemirror_mode": {
    "name": "ipython",
    "version": 3
   },
   "file_extension": ".py",
   "mimetype": "text/x-python",
   "name": "python",
   "nbconvert_exporter": "python",
   "pygments_lexer": "ipython3",
   "version": "3.8.2"
  }
 },
 "nbformat": 4,
 "nbformat_minor": 4
}
