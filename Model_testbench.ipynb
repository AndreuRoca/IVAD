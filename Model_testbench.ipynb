{
 "cells": [
  {
   "cell_type": "markdown",
   "metadata": {},
   "source": [
    "# Model testbench\n",
    "\n",
    "\n",
    "In this jupyter notebook I have all the model tests documented. Written in Python3 and SKlearn. Don't \"run all\" this notebook. It's computationally complex and can take a very long time to complete.\n",
    "\n",
    "Dependences: \\\n",
    "-Numpy  \\\n",
    "-Pandas \\\n",
    "-Matplotlib \\\n",
    "-ScyPy \\\n",
    "-Sklearn \\\n",
    "-Lightgbm "
   ]
  },
  {
   "cell_type": "code",
   "execution_count": 2,
   "metadata": {},
   "outputs": [],
   "source": [
    "import numpy as np\n",
    "import pandas as pd\n",
    "import matplotlib.pyplot as plt\n",
    "from sklearn.tree import DecisionTreeClassifier\n",
    "from sklearn.linear_model import LogisticRegression\n",
    "from sklearn.model_selection import train_test_split\n",
    "from sklearn.svm import LinearSVC, SVC\n",
    "from sklearn.pipeline import make_pipeline\n",
    "from sklearn.preprocessing import StandardScaler\n",
    "from sklearn.neighbors import KNeighborsClassifier,NeighborhoodComponentsAnalysis, NearestCentroid\n",
    "from sklearn.model_selection import GridSearchCV\n",
    "from sklearn.decomposition import PCA, KernelPCA, IncrementalPCA\n",
    "from sklearn.ensemble import RandomForestClassifier, AdaBoostClassifier, GradientBoostingClassifier\n",
    "import lightgbm as lgb\n",
    "from scipy.fft import fft, ifft\n",
    "from sklearn.naive_bayes import GaussianNB, MultinomialNB, ComplementNB, BernoulliNB, CategoricalNB"
   ]
  },
  {
   "cell_type": "code",
   "execution_count": 57,
   "metadata": {},
   "outputs": [],
   "source": [
    "dataset = pd.read_csv(\"dataset_clone.csv\")\n",
    "y=dataset.iloc[:,-1]\n",
    "X=dataset.iloc[:,:-1]\n",
    "X_train, X_test, y_train, y_test = train_test_split(X, y, test_size=0.30)"
   ]
  },
  {
   "cell_type": "markdown",
   "metadata": {},
   "source": [
    "## Basic classifications (baseline)"
   ]
  },
  {
   "cell_type": "code",
   "execution_count": 59,
   "metadata": {},
   "outputs": [
    {
     "data": {
      "text/plain": [
       "0.2932330827067669"
      ]
     },
     "execution_count": 59,
     "metadata": {},
     "output_type": "execute_result"
    }
   ],
   "source": [
    "clf = LogisticRegression(random_state=0, penalty='none').fit(X_train, y_train)\n",
    "clf.score(X_test, y_test)"
   ]
  },
  {
   "cell_type": "code",
   "execution_count": 60,
   "metadata": {},
   "outputs": [
    {
     "data": {
      "text/plain": [
       "(0.3007518796992481, 1.0)"
      ]
     },
     "execution_count": 60,
     "metadata": {},
     "output_type": "execute_result"
    }
   ],
   "source": [
    "clf2=LinearSVC(penalty='l2',random_state=0, tol=1e-5,max_iter=9000,C=1,loss='squared_hinge').fit(X_train,y_train)\n",
    "clf2.score(X_test, y_test), clf2.score(X_train,y_train)"
   ]
  },
  {
   "cell_type": "code",
   "execution_count": 62,
   "metadata": {},
   "outputs": [
    {
     "data": {
      "text/plain": [
       "0.23308270676691728"
      ]
     },
     "execution_count": 62,
     "metadata": {},
     "output_type": "execute_result"
    }
   ],
   "source": [
    "clf3 = KNeighborsClassifier(n_neighbors=7).fit(X_train, y_train)\n",
    "clf3.score(X_test, y_test)"
   ]
  },
  {
   "cell_type": "code",
   "execution_count": null,
   "metadata": {},
   "outputs": [],
   "source": [
    "sc=0\n",
    "iteration=0\n",
    "for neig in range(1,200):\n",
    "    clf3 = KNeighborsClassifier(n_neighbors=neig).fit(X_train_PCA, y_train)\n",
    "    if sc<clf3.score(X_test_PCA,y_test):\n",
    "        sc=clf3.score(X_test_PCA,y_test)\n",
    "        iteration=neig\n",
    "print (sc, iteration)"
   ]
  },
  {
   "cell_type": "code",
   "execution_count": null,
   "metadata": {},
   "outputs": [],
   "source": [
    "red5=PCA(.90)\n",
    "X_train_PCA=red5.fit_transform(X_train)\n",
    "X_test_PCA=red5.transform(X_test)\n",
    "sc=0\n",
    "iteration=0\n",
    "for neig in range(1,200):\n",
    "    clf3 = KNeighborsClassifier(n_neighbors=neig).fit(X_train_PCA, y_train)\n",
    "    if sc<clf3.score(X_test_PCA,y_test):\n",
    "        sc=clf3.score(X_test_PCA,y_test)\n",
    "        iteration=neig\n",
    "print (sc, iteration)"
   ]
  },
  {
   "cell_type": "code",
   "execution_count": null,
   "metadata": {},
   "outputs": [],
   "source": [
    "clf4 = LogisticRegression(random_state=0, max_iter=10000)\n",
    "params=([{'penalty': ['none'], 'solver': ['newton-cg', 'lbfgs', 'sag','saga']},\n",
    "        {'penalty': ['elasticnet'], 'solver': ['saga']},\n",
    "        {'penalty': ['l2'], 'solver': ['newton-cg', 'lbfgs', 'sag','saga','liblinear']},\n",
    "        {'penalty': ['l1'], 'solver': ['liblinear', 'saga']},])\n",
    "gs=GridSearchCV(clf8,params).fit(X_train,y_train)"
   ]
  },
  {
   "cell_type": "markdown",
   "metadata": {},
   "source": [
    "## SVC"
   ]
  },
  {
   "cell_type": "code",
   "execution_count": null,
   "metadata": {},
   "outputs": [],
   "source": [
    "clf4=LinearSVC(penalty='l2',random_state=0, tol=1e-5,max_iter=9000,C=1,loss='squared_hinge').fit(X_train,y_train)\n",
    "clf7.score(X_test, y_test)"
   ]
  },
  {
   "cell_type": "code",
   "execution_count": 99,
   "metadata": {},
   "outputs": [
    {
     "data": {
      "text/plain": [
       "(SVC(C=100, gamma=0.0001, random_state=1),\n",
       " {'C': 100, 'gamma': 0.0001, 'kernel': 'rbf'},\n",
       " 0.45505023796932836)"
      ]
     },
     "execution_count": 99,
     "metadata": {},
     "output_type": "execute_result"
    }
   ],
   "source": [
    "clf6 = SVC(random_state=1, kernel='rbf', C=80, gamma=0.0001).fit(X_train,y_train)\n",
    "clf6.score(X_test, y_test)\n",
    "param_grid = [\n",
    "  {'C': [1, 10, 100, 1000], 'kernel': ['linear']},\n",
    "  {'C': [1, 10, 100, 1000], 'gamma': [0.001, 0.0001], 'kernel': ['rbf']},\n",
    " ]\n",
    "gs=GridSearchCV(clf6,param_grid).fit(X_train,y_train)\n",
    "gs.best_estimator_, gs.best_params_, gs.best_score_"
   ]
  },
  {
   "cell_type": "code",
   "execution_count": null,
   "metadata": {},
   "outputs": [],
   "source": [
    "param_grid = [\n",
    "  {'C': [40,100,400], 'gamma': [0.001, 0.0001, 0.00001], 'kernel': ['rbf']},\n",
    " ]\n",
    "\n",
    "gs2=GridSearchCV(clf6,param_grid).fit(X,y)\n",
    "gs2.best_estimator_, gs2.best_params_, gs2.best_score_"
   ]
  },
  {
   "cell_type": "code",
   "execution_count": null,
   "metadata": {},
   "outputs": [],
   "source": [
    "param_grid3= [\n",
    "  {'C': [1,10,80,100,400,1000], 'loss': ['hinge','squared_hinge']},]\n",
    "gs3=GridSearchCV(LinearSVC(), param_grid3).fit(X,y)"
   ]
  },
  {
   "cell_type": "code",
   "execution_count": 64,
   "metadata": {},
   "outputs": [
    {
     "data": {
      "text/plain": [
       "0.39097744360902253"
      ]
     },
     "execution_count": 64,
     "metadata": {},
     "output_type": "execute_result"
    }
   ],
   "source": [
    "red=PCA(.90)\n",
    "X_train_PCA=red.fit_transform(X_train)\n",
    "X_test_PCA=red.transform(X_test)\n",
    "\n",
    "clf5 = SVC(random_state=1, kernel='rbf', C=80, gamma=0.0001).fit(X_train,y_train)\n",
    "clf5.score(X_test, y_test)"
   ]
  },
  {
   "cell_type": "code",
   "execution_count": 58,
   "metadata": {},
   "outputs": [
    {
     "data": {
      "text/plain": [
       "(SVC(C=100, gamma=0.0001, random_state=1), 0.43796932839767316)"
      ]
     },
     "execution_count": 58,
     "metadata": {},
     "output_type": "execute_result"
    }
   ],
   "source": [
    "red2=KernelPCA(.90)\n",
    "X_train_KPCA=red.fit_transform(X_train)\n",
    "X_test_KPCA=red.transform(X_test)\n",
    "param_grid = [{'C': [40,100,400], 'gamma': [0.001, 0.0001, 0.00001], 'kernel': ['rbf']},]\n",
    "gs4=GridSearchCV(clf5,param_grid).fit(X_train_KPCA,y_train)\n",
    "gs4.best_estimator_, gs4.best_score_"
   ]
  },
  {
   "cell_type": "code",
   "execution_count": 68,
   "metadata": {},
   "outputs": [
    {
     "data": {
      "text/plain": [
       "(SVC(C=100, gamma=0.0001),\n",
       " 0.408197139938713,\n",
       " {'C': 100, 'gamma': 0.0001, 'kernel': 'rbf'})"
      ]
     },
     "execution_count": 68,
     "metadata": {},
     "output_type": "execute_result"
    }
   ],
   "source": [
    "red2=IncrementalPCA(.90)\n",
    "X_train_IPCA=red2.fit_transform(X_train)\n",
    "X_test_IPCA=red2.transform(X_test)\n",
    "clf6=SVC()\n",
    "param_grid = [{'C': [40,100,400], 'gamma': [0.001, 0.0001, 0.00001], 'kernel': ['rbf']},\n",
    "              {'C': [40, 100, 400], 'kernel': ['linear'], 'gamma': [0.001, 0.0001, 0.00001]},\n",
    "              {'C': [40, 100, 400], 'kernel': ['poly'], 'gamma': [0.001, 0.0001, 0.00001],},]\n",
    "\n",
    "gs5=GridSearchCV(clf6,param_grid).fit(X_train_IPCA,y_train)\n",
    "gs5.best_estimator_, gs5.best_score_, gs5.best_params_"
   ]
  },
  {
   "cell_type": "code",
   "execution_count": 165,
   "metadata": {},
   "outputs": [
    {
     "data": {
      "text/plain": [
       "(SVC(C=100, gamma=0.0001),\n",
       " 0.408197139938713,\n",
       " {'C': 100, 'gamma': 0.0001, 'kernel': 'rbf'})"
      ]
     },
     "execution_count": 165,
     "metadata": {},
     "output_type": "execute_result"
    }
   ],
   "source": [
    "red3=KernelPCA(.90)\n",
    "X_train_KPCA=red3.fit_transform(X_train)\n",
    "X_test_KPCA=red3.transform(X_test)\n",
    "clf7=SVC()\n",
    "param_grid = [{'C': [40,100,400], 'gamma': [0.001, 0.0001, 0.00001], 'kernel': ['rbf']},\n",
    "              {'C': [40, 100, 400], 'kernel': ['linear'], 'gamma': [0.001, 0.0001, 0.00001]},\n",
    "              {'C': [40, 100, 400], 'kernel': ['poly'], 'gamma': [0.001, 0.0001, 0.00001],},]\n",
    "\n",
    "gs=GridSearchCV(clf7,param_grid).fit(X_train_PCA,y_train)\n",
    "gs.best_estimator_, gs.best_score_, gs.best_params_"
   ]
  },
  {
   "cell_type": "code",
   "execution_count": 69,
   "metadata": {},
   "outputs": [
    {
     "data": {
      "text/plain": [
       "(SVC(C=100, gamma=1e-05),\n",
       " 0.42527763088313064,\n",
       " {'C': 100, 'gamma': 1e-05, 'kernel': 'rbf'})"
      ]
     },
     "execution_count": 69,
     "metadata": {},
     "output_type": "execute_result"
    }
   ],
   "source": [
    "red4=PCA(.90)\n",
    "sc=StandardScaler()\n",
    "X_train_sc=sc.fit_transform(X_train)\n",
    "X_test_sc=sc.transform(X_test)\n",
    "X_train_PCA=red4.fit_transform(X_train_sc)\n",
    "X_test_PCA=red4.transform(X_test_sc)\n",
    "sc=StandardScaler()\n",
    "sc.fit_transform(X_train)\n",
    "sc.transform(X_test)\n",
    "clf6=SVC()\n",
    "param_grid = [{'C': [0.1, 40, 100, 400], 'gamma': [0.001, 0.0001, 0.00001], 'kernel': ['rbf']},\n",
    "              {'C': [0.1, 40, 100, 400], 'kernel': ['linear'], 'gamma': [0.001, 0.0001, 0.00001]},\n",
    "              {'C': [0.1, 40, 100, 400], 'kernel': ['poly'], 'gamma': [0.001, 0.0001, 0.00001],},]\n",
    "\n",
    "gs=GridSearchCV(clf6,param_grid).fit(X_train_PCA,y_train)\n",
    "gs.best_estimator_, gs.best_score_, gs.best_params_"
   ]
  },
  {
   "cell_type": "code",
   "execution_count": 65,
   "metadata": {},
   "outputs": [
    {
     "data": {
      "text/plain": [
       "(LinearSVC(C=0.1, loss='hinge', max_iter=5000),\n",
       " 0.31966292134831464,\n",
       " {'C': 0.1, 'loss': 'hinge', 'penalty': 'l2'})"
      ]
     },
     "execution_count": 65,
     "metadata": {},
     "output_type": "execute_result"
    }
   ],
   "source": [
    "red4=PCA()\n",
    "sc2=StandardScaler()\n",
    "X_train_sc=sc2.fit_transform(X_train)\n",
    "X_test_sc=sc2.transform(X_test)\n",
    "X_train_PCA=red4.fit_transform(X_train_sc)\n",
    "X_test_PCA=red4.transform(X_test_sc)\n",
    "\n",
    "clf6=LinearSVC(max_iter=5000)\n",
    "param_grid = [{'C': [0.1, 40, 100, 400], 'penalty': ['l2'], 'loss': ['hinge','squared_hinge']},]\n",
    "gs=GridSearchCV(clf6,param_grid).fit(X_train_PCA,y_train)\n",
    "gs.best_estimator_, gs.best_score_, gs.best_params_"
   ]
  },
  {
   "cell_type": "markdown",
   "metadata": {},
   "source": [
    "## Ensemble methods"
   ]
  },
  {
   "cell_type": "code",
   "execution_count": null,
   "metadata": {},
   "outputs": [],
   "source": [
    "dataset = pd.read_csv(\"dataset_clone.csv\")\n",
    "y=dataset.iloc[:,-1]\n",
    "X=dataset.iloc[:,:-1]\n",
    "X_train, X_test, y_train, y_test = train_test_split(X, y, test_size=0.30)"
   ]
  },
  {
   "cell_type": "code",
   "execution_count": 201,
   "metadata": {},
   "outputs": [
    {
     "data": {
      "text/plain": [
       "0.46616541353383456"
      ]
     },
     "execution_count": 201,
     "metadata": {},
     "output_type": "execute_result"
    }
   ],
   "source": [
    "ensemble1=RandomForestClassifier().fit(X_train, y_train)\n",
    "ensemble1.score(X_test, y_test)"
   ]
  },
  {
   "cell_type": "code",
   "execution_count": 202,
   "metadata": {},
   "outputs": [
    {
     "data": {
      "text/plain": [
       "0.39849624060150374"
      ]
     },
     "execution_count": 202,
     "metadata": {},
     "output_type": "execute_result"
    }
   ],
   "source": [
    "ensemble2=AdaBoostClassifier().fit(X_train, y_train)\n",
    "ensemble2.score(X_test, y_test)"
   ]
  },
  {
   "cell_type": "code",
   "execution_count": 203,
   "metadata": {},
   "outputs": [
    {
     "data": {
      "text/plain": [
       "0.40601503759398494"
      ]
     },
     "execution_count": 203,
     "metadata": {},
     "output_type": "execute_result"
    }
   ],
   "source": [
    "ensemble3=GradientBoostingClassifier().fit(X_train, y_train)\n",
    "ensemble3.score(X_test,y_test)"
   ]
  },
  {
   "cell_type": "code",
   "execution_count": 90,
   "metadata": {},
   "outputs": [],
   "source": [
    "red4=PCA(0.95)\n",
    "X_train_PCA=red4.fit_transform(X_train)\n",
    "X_test_PCA=red4.transform(X_test)"
   ]
  },
  {
   "cell_type": "code",
   "execution_count": 91,
   "metadata": {},
   "outputs": [
    {
     "data": {
      "text/plain": [
       "0.42105263157894735"
      ]
     },
     "execution_count": 91,
     "metadata": {},
     "output_type": "execute_result"
    }
   ],
   "source": [
    "ensemble1=RandomForestClassifier().fit(X_train_PCA, y_train)\n",
    "ensemble1.score(X_test_PCA, y_test)"
   ]
  },
  {
   "cell_type": "code",
   "execution_count": 92,
   "metadata": {},
   "outputs": [
    {
     "data": {
      "text/plain": [
       "0.3684210526315789"
      ]
     },
     "execution_count": 92,
     "metadata": {},
     "output_type": "execute_result"
    }
   ],
   "source": [
    "ensemble2=AdaBoostClassifier().fit(X_train_PCA, y_train)\n",
    "ensemble2.score(X_test_PCA, y_test)"
   ]
  },
  {
   "cell_type": "code",
   "execution_count": 93,
   "metadata": {},
   "outputs": [
    {
     "data": {
      "text/plain": [
       "0.39849624060150374"
      ]
     },
     "execution_count": 93,
     "metadata": {},
     "output_type": "execute_result"
    }
   ],
   "source": [
    "ensemble3=GradientBoostingClassifier().fit(X_train_PCA, y_train)\n",
    "ensemble3.score(X_test_PCA,y_test)"
   ]
  },
  {
   "cell_type": "code",
   "execution_count": 94,
   "metadata": {},
   "outputs": [],
   "source": [
    "dataset = pd.read_csv(\"dataset_clone.csv\")\n",
    "y=dataset.iloc[:,-1]\n",
    "X=dataset.iloc[:,:-1]\n",
    "X_train, X_test, y_train, y_test = train_test_split(X, y, test_size=0.30)"
   ]
  },
  {
   "cell_type": "code",
   "execution_count": 98,
   "metadata": {},
   "outputs": [
    {
     "data": {
      "text/plain": [
       "(LGBMClassifier(n_estimators=10000, num_leaves=25),\n",
       " 0.39298178818452945,\n",
       " 10,\n",
       " {'learning_rate': 0.1, 'n_estimators': 10000, 'num_leaves': 25})"
      ]
     },
     "execution_count": 98,
     "metadata": {},
     "output_type": "execute_result"
    }
   ],
   "source": [
    "ensemble4 = lgb.LGBMClassifier()\n",
    "param_grid = {\n",
    "    'num_leaves': [25,28,31,33,35],\n",
    "    'learning_rate': [0.001, 0.01, 0.1, 1],\n",
    "    'n_estimators': [10000] #max\n",
    "}\n",
    "gbm = GridSearchCV(ensemble4, param_grid, cv=3)\n",
    "gbm.fit(X_train, y_train)\n",
    "gbm.best_estimator_, gbm.best_score_, gbm.best_index_, gbm.best_params_"
   ]
  },
  {
   "cell_type": "code",
   "execution_count": 101,
   "metadata": {},
   "outputs": [
    {
     "data": {
      "text/plain": [
       "(LGBMClassifier(num_leaves=21),\n",
       " 0.36039723332698775,\n",
       " 6,\n",
       " {'learning_rate': 0.1, 'n_estimators': 100, 'num_leaves': 21})"
      ]
     },
     "execution_count": 101,
     "metadata": {},
     "output_type": "execute_result"
    }
   ],
   "source": [
    "ensemble5 = lgb.LGBMClassifier()\n",
    "param_grid = {\n",
    "    'num_leaves': [21,22,23,24,25,26],\n",
    "    'learning_rate': [0.01, 0.1],\n",
    "    'n_estimators': [100]\n",
    "}\n",
    "gbm2 = GridSearchCV(ensemble5, param_grid, cv=3)\n",
    "gbm2.fit(X_train, y_train)\n",
    "gbm2.best_estimator_, gbm2.best_score_, gbm2.best_index_, gbm2.best_params_"
   ]
  },
  {
   "cell_type": "code",
   "execution_count": null,
   "metadata": {},
   "outputs": [],
   "source": [
    "gbm = lgb.LGBMClassifier(num_leaves=25,\n",
    "                        learning_rate=0.01,\n",
    "                        n_estimators=2000,\n",
    "                        max_depth=7)\n",
    "gbm.fit(X_train, y_train,\n",
    "        eval_set=[(X_test, y_test)],\n",
    "        eval_metric=['multi_error','multiclass'],\n",
    "        early_stopping_rounds=70)\n",
    "gbm.score(X_test, y_test)"
   ]
  },
  {
   "cell_type": "code",
   "execution_count": null,
   "metadata": {},
   "outputs": [],
   "source": [
    "red4=PCA(.95)\n",
    "X_train_PCA=red4.fit_transform(X_train)\n",
    "X_test_PCA=red4.transform(X_test)\n",
    "ensemble6 = lgb.LGBMClassifier()\n",
    "param_grid = {\n",
    "    'num_leaves': [22,21,20,19,18],\n",
    "    'learning_rate': [0.01,0.001],\n",
    "    'n_estimators': [100],\n",
    "    'max_depth': [7,8,9,10]\n",
    "}\n",
    "gbm3 = GridSearchCV(ensemble5, param_grid, cv=3)\n",
    "gbm3.fit(X_train_P, y_train)\n",
    "gbm3.best_estimator_, gbm3.best_score_, gbm3.best_index_, gbm3.best_params_"
   ]
  },
  {
   "cell_type": "markdown",
   "metadata": {},
   "source": [
    "## Naive bayes"
   ]
  },
  {
   "cell_type": "code",
   "execution_count": 204,
   "metadata": {},
   "outputs": [
    {
     "data": {
      "text/plain": [
       "0.3007518796992481"
      ]
     },
     "execution_count": 204,
     "metadata": {},
     "output_type": "execute_result"
    }
   ],
   "source": [
    "nb1=GaussianNB().fit(X_train, y_train)\n",
    "nb1.score(X_test,y_test)"
   ]
  },
  {
   "cell_type": "code",
   "execution_count": 205,
   "metadata": {},
   "outputs": [
    {
     "data": {
      "text/plain": [
       "0.3157894736842105"
      ]
     },
     "execution_count": 205,
     "metadata": {},
     "output_type": "execute_result"
    }
   ],
   "source": [
    "nb2=ComplementNB().fit(X_train, y_train)\n",
    "nb2.score(X_test,y_test)"
   ]
  },
  {
   "cell_type": "code",
   "execution_count": 221,
   "metadata": {},
   "outputs": [
    {
     "data": {
      "text/plain": [
       "0.5639097744360902"
      ]
     },
     "execution_count": 221,
     "metadata": {},
     "output_type": "execute_result"
    }
   ],
   "source": [
    "nb4=BernoulliNB(alpha=0.075, binarize=0, fit_prior=True).fit(X_train, y_train)\n",
    "nb4.score(X_test,y_test)"
   ]
  },
  {
   "cell_type": "code",
   "execution_count": 284,
   "metadata": {},
   "outputs": [
    {
     "data": {
      "text/plain": [
       "0.42857142857142855"
      ]
     },
     "execution_count": 284,
     "metadata": {},
     "output_type": "execute_result"
    }
   ],
   "source": [
    "clf6 = NearestCentroid().fit(X_train, y_train)\n",
    "clf6.score(X_test,y_test)"
   ]
  },
  {
   "cell_type": "code",
   "execution_count": null,
   "metadata": {},
   "outputs": [],
   "source": [
    "red4=PCA(.95)\n",
    "X_train_PCA=red4.fit_transform(X_train)\n",
    "X_test_PCA=red4.transform(X_test)"
   ]
  },
  {
   "cell_type": "code",
   "execution_count": 75,
   "metadata": {},
   "outputs": [
    {
     "data": {
      "text/plain": [
       "0.2932330827067669"
      ]
     },
     "execution_count": 75,
     "metadata": {},
     "output_type": "execute_result"
    }
   ],
   "source": [
    "nb1=GaussianNB().fit(X_train, y_train)\n",
    "nb1.score(X_test,y_test)"
   ]
  },
  {
   "cell_type": "code",
   "execution_count": 76,
   "metadata": {},
   "outputs": [
    {
     "data": {
      "text/plain": [
       "0.2932330827067669"
      ]
     },
     "execution_count": 76,
     "metadata": {},
     "output_type": "execute_result"
    }
   ],
   "source": [
    "nb2=ComplementNB().fit(X_train, y_train)\n",
    "nb2.score(X_test,y_test)"
   ]
  },
  {
   "cell_type": "code",
   "execution_count": 77,
   "metadata": {},
   "outputs": [
    {
     "data": {
      "text/plain": [
       "0.47368421052631576"
      ]
     },
     "execution_count": 77,
     "metadata": {},
     "output_type": "execute_result"
    }
   ],
   "source": [
    "nb4=BernoulliNB(alpha=0.075, binarize=0, fit_prior=True).fit(X_train, y_train)\n",
    "nb4.score(X_test,y_test)"
   ]
  },
  {
   "cell_type": "code",
   "execution_count": 78,
   "metadata": {},
   "outputs": [
    {
     "data": {
      "text/plain": [
       "0.23308270676691728"
      ]
     },
     "execution_count": 78,
     "metadata": {},
     "output_type": "execute_result"
    }
   ],
   "source": [
    "clf6 = NearestCentroid().fit(X_train, y_train)\n",
    "clf6.score(X_test,y_test)"
   ]
  },
  {
   "cell_type": "code",
   "execution_count": null,
   "metadata": {},
   "outputs": [],
   "source": [
    "#Couldn't run this test in some computers...\n",
    "\n",
    "#nca = NeighborhoodComponentsAnalysis().fit_transform(X_train, y_train) \n",
    "#nca.transform(X_test,y_test)\n",
    "#knn = KNeighborsClassifier(n_neighbors=7).fit(X_train, y_train)\n",
    "#knn.score(X_test, y_test)"
   ]
  },
  {
   "cell_type": "markdown",
   "metadata": {},
   "source": [
    "## Preprocessing: FFT (fast fourier transform)"
   ]
  },
  {
   "cell_type": "code",
   "execution_count": 4,
   "metadata": {},
   "outputs": [
    {
     "data": {
      "text/plain": [
       "(441, 12000)"
      ]
     },
     "execution_count": 4,
     "metadata": {},
     "output_type": "execute_result"
    }
   ],
   "source": [
    "X_fourier=fft(X)\n",
    "X_fourier_abs=np.abs(X_fourier)\n",
    "X_f=pd.DataFrame.from_records(X_fourier_abs)\n",
    "X_f.shape\n",
    "#from here X_train X_test... Are fourier transformed"
   ]
  },
  {
   "cell_type": "code",
   "execution_count": 5,
   "metadata": {},
   "outputs": [],
   "source": [
    "X_train, X_test, y_train, y_test = train_test_split(X_f, y, test_size=0.30)"
   ]
  },
  {
   "cell_type": "code",
   "execution_count": 106,
   "metadata": {},
   "outputs": [
    {
     "data": {
      "text/plain": [
       "0.6616541353383458"
      ]
     },
     "execution_count": 106,
     "metadata": {},
     "output_type": "execute_result"
    }
   ],
   "source": [
    "clf_fft= LogisticRegression(random_state=0, penalty='none').fit(X_train, y_train)\n",
    "clf_fft.score(X_test, y_test)"
   ]
  },
  {
   "cell_type": "code",
   "execution_count": 107,
   "metadata": {},
   "outputs": [
    {
     "data": {
      "text/plain": [
       "(0.408197139938713,\n",
       " {'C': 100, 'gamma': 0.0001, 'kernel': 'rbf'},\n",
       " SVC(C=100, gamma=0.0001),\n",
       " 9)"
      ]
     },
     "execution_count": 107,
     "metadata": {},
     "output_type": "execute_result"
    }
   ],
   "source": [
    "clf2_fft = SVC()\n",
    "param_grid = [\n",
    "  {'C': [1, 10, 100, 1000], 'kernel': ['linear']},\n",
    "  {'C': [1, 10, 100, 1000], 'gamma': [0.001, 0.0001], 'kernel': ['rbf']},\n",
    " ]\n",
    "gs_fft=GridSearchCV(clf2_fft,param_grid).fit(X,y)\n",
    "gs_fft.cv_results_\n",
    "gs_fft.best_score_, gs_fft.best_params_, gs_fft.best_estimator_, gs_fft.best_index_"
   ]
  },
  {
   "cell_type": "code",
   "execution_count": 226,
   "metadata": {},
   "outputs": [
    {
     "data": {
      "text/plain": [
       "(0.34466292134831467,\n",
       " {'C': 10, 'loss': 'hinge'},\n",
       " LinearSVC(C=10, loss='hinge'),\n",
       " 4)"
      ]
     },
     "execution_count": 226,
     "metadata": {},
     "output_type": "execute_result"
    }
   ],
   "source": [
    "clf3_fft = LinearSVC()\n",
    "param_grid = [{'C': [0.5, 1, 10, 100, 1000], 'loss': ['hinge', 'squared_hinge']},]\n",
    "gs2_fft=GridSearchCV(clf3,param_grid).fit(X,y)\n",
    "gs2_fft.best_score_, gs2_fft.best_params_, gs2_fft.best_estimator_, gs2_fft.best_index_"
   ]
  },
  {
   "cell_type": "code",
   "execution_count": 227,
   "metadata": {},
   "outputs": [
    {
     "name": "stdout",
     "output_type": "stream",
     "text": [
      "0.631578947368421 7\n"
     ]
    }
   ],
   "source": [
    "#KNC n_neighbors iterators to test the best number of it\n",
    "sc=0\n",
    "iteration=0\n",
    "for neig in range(1,200):\n",
    "    clf3 = KNeighborsClassifier(n_neighbors=neig).fit(X_train, y_train)\n",
    "    if sc<clf3.score(X_test,y_test):\n",
    "        sc=clf3.score(X_test,y_test)\n",
    "        iteration=neig\n",
    "print (sc, iteration)"
   ]
  },
  {
   "cell_type": "code",
   "execution_count": 56,
   "metadata": {},
   "outputs": [
    {
     "name": "stdout",
     "output_type": "stream",
     "text": [
      "0.6917293233082706 20\n"
     ]
    }
   ],
   "source": [
    "red5=PCA(.90)\n",
    "X_train_PCA=red5.fit_transform(X_train)\n",
    "X_test_PCA=red5.transform(X_test)\n",
    "sc=0\n",
    "iteration=0\n",
    "for neig in range(1,200):\n",
    "    clf3 = KNeighborsClassifier(n_neighbors=neig).fit(X_train_PCA, y_train)\n",
    "    if sc<clf3.score(X_test_PCA,y_test):\n",
    "        sc=clf3.score(X_test_PCA,y_test)\n",
    "        iteration=neig\n",
    "print (sc, iteration)"
   ]
  },
  {
   "cell_type": "code",
   "execution_count": 232,
   "metadata": {},
   "outputs": [
    {
     "data": {
      "text/plain": [
       "0.631578947368421"
      ]
     },
     "execution_count": 232,
     "metadata": {},
     "output_type": "execute_result"
    }
   ],
   "source": [
    "clf_kn_fft= KNeighborsClassifier(7).fit(X_train, y_train)\n",
    "clf_kn_fft.score(X_test, y_test)"
   ]
  },
  {
   "cell_type": "code",
   "execution_count": 251,
   "metadata": {},
   "outputs": [
    {
     "data": {
      "text/plain": [
       "0.24060150375939848"
      ]
     },
     "execution_count": 251,
     "metadata": {},
     "output_type": "execute_result"
    }
   ],
   "source": [
    "nb4=BernoulliNB(alpha=0.075).fit(X_train, y_train)\n",
    "nb4.score(X_test,y_test)"
   ]
  },
  {
   "cell_type": "code",
   "execution_count": 21,
   "metadata": {},
   "outputs": [
    {
     "name": "stderr",
     "output_type": "stream",
     "text": [
      "/usr/local/lib/python3.8/dist-packages/sklearn/linear_model/_sag.py:329: ConvergenceWarning: The max_iter was reached which means the coef_ did not converge\n",
      "  warnings.warn(\"The max_iter was reached which means \"\n",
      "/usr/local/lib/python3.8/dist-packages/sklearn/linear_model/_sag.py:329: ConvergenceWarning: The max_iter was reached which means the coef_ did not converge\n",
      "  warnings.warn(\"The max_iter was reached which means \"\n",
      "/usr/local/lib/python3.8/dist-packages/sklearn/linear_model/_sag.py:329: ConvergenceWarning: The max_iter was reached which means the coef_ did not converge\n",
      "  warnings.warn(\"The max_iter was reached which means \"\n",
      "/usr/local/lib/python3.8/dist-packages/sklearn/linear_model/_sag.py:329: ConvergenceWarning: The max_iter was reached which means the coef_ did not converge\n",
      "  warnings.warn(\"The max_iter was reached which means \"\n",
      "/usr/local/lib/python3.8/dist-packages/sklearn/linear_model/_sag.py:329: ConvergenceWarning: The max_iter was reached which means the coef_ did not converge\n",
      "  warnings.warn(\"The max_iter was reached which means \"\n",
      "/usr/local/lib/python3.8/dist-packages/sklearn/linear_model/_sag.py:329: ConvergenceWarning: The max_iter was reached which means the coef_ did not converge\n",
      "  warnings.warn(\"The max_iter was reached which means \"\n",
      "/usr/local/lib/python3.8/dist-packages/sklearn/linear_model/_sag.py:329: ConvergenceWarning: The max_iter was reached which means the coef_ did not converge\n",
      "  warnings.warn(\"The max_iter was reached which means \"\n",
      "/usr/local/lib/python3.8/dist-packages/sklearn/linear_model/_sag.py:329: ConvergenceWarning: The max_iter was reached which means the coef_ did not converge\n",
      "  warnings.warn(\"The max_iter was reached which means \"\n",
      "/usr/local/lib/python3.8/dist-packages/sklearn/linear_model/_sag.py:329: ConvergenceWarning: The max_iter was reached which means the coef_ did not converge\n",
      "  warnings.warn(\"The max_iter was reached which means \"\n",
      "/usr/local/lib/python3.8/dist-packages/sklearn/linear_model/_sag.py:329: ConvergenceWarning: The max_iter was reached which means the coef_ did not converge\n",
      "  warnings.warn(\"The max_iter was reached which means \"\n",
      "/usr/local/lib/python3.8/dist-packages/sklearn/model_selection/_validation.py:548: FitFailedWarning: Estimator fit failed. The score on this train-test partition for these parameters will be set to nan. Details: \n",
      "Traceback (most recent call last):\n",
      "  File \"/usr/local/lib/python3.8/dist-packages/sklearn/model_selection/_validation.py\", line 531, in _fit_and_score\n",
      "    estimator.fit(X_train, y_train, **fit_params)\n",
      "  File \"/usr/local/lib/python3.8/dist-packages/sklearn/linear_model/_logistic.py\", line 1312, in fit\n",
      "    raise ValueError(\"l1_ratio must be between 0 and 1;\"\n",
      "ValueError: l1_ratio must be between 0 and 1; got (l1_ratio=None)\n",
      "\n",
      "  warnings.warn(\"Estimator fit failed. The score on this train-test\"\n",
      "/usr/local/lib/python3.8/dist-packages/sklearn/linear_model/_logistic.py:762: ConvergenceWarning: lbfgs failed to converge (status=1):\n",
      "STOP: TOTAL NO. of ITERATIONS REACHED LIMIT.\n",
      "\n",
      "Increase the number of iterations (max_iter) or scale the data as shown in:\n",
      "    https://scikit-learn.org/stable/modules/preprocessing.html\n",
      "Please also refer to the documentation for alternative solver options:\n",
      "    https://scikit-learn.org/stable/modules/linear_model.html#logistic-regression\n",
      "  n_iter_i = _check_optimize_result(\n",
      "/usr/local/lib/python3.8/dist-packages/sklearn/linear_model/_logistic.py:762: ConvergenceWarning: lbfgs failed to converge (status=1):\n",
      "STOP: TOTAL NO. of ITERATIONS REACHED LIMIT.\n",
      "\n",
      "Increase the number of iterations (max_iter) or scale the data as shown in:\n",
      "    https://scikit-learn.org/stable/modules/preprocessing.html\n",
      "Please also refer to the documentation for alternative solver options:\n",
      "    https://scikit-learn.org/stable/modules/linear_model.html#logistic-regression\n",
      "  n_iter_i = _check_optimize_result(\n",
      "/usr/local/lib/python3.8/dist-packages/sklearn/linear_model/_logistic.py:762: ConvergenceWarning: lbfgs failed to converge (status=1):\n",
      "STOP: TOTAL NO. of ITERATIONS REACHED LIMIT.\n",
      "\n",
      "Increase the number of iterations (max_iter) or scale the data as shown in:\n",
      "    https://scikit-learn.org/stable/modules/preprocessing.html\n",
      "Please also refer to the documentation for alternative solver options:\n",
      "    https://scikit-learn.org/stable/modules/linear_model.html#logistic-regression\n",
      "  n_iter_i = _check_optimize_result(\n",
      "/usr/local/lib/python3.8/dist-packages/sklearn/linear_model/_logistic.py:762: ConvergenceWarning: lbfgs failed to converge (status=1):\n",
      "STOP: TOTAL NO. of ITERATIONS REACHED LIMIT.\n",
      "\n",
      "Increase the number of iterations (max_iter) or scale the data as shown in:\n",
      "    https://scikit-learn.org/stable/modules/preprocessing.html\n",
      "Please also refer to the documentation for alternative solver options:\n",
      "    https://scikit-learn.org/stable/modules/linear_model.html#logistic-regression\n",
      "  n_iter_i = _check_optimize_result(\n",
      "/usr/local/lib/python3.8/dist-packages/sklearn/linear_model/_logistic.py:762: ConvergenceWarning: lbfgs failed to converge (status=1):\n",
      "STOP: TOTAL NO. of ITERATIONS REACHED LIMIT.\n",
      "\n",
      "Increase the number of iterations (max_iter) or scale the data as shown in:\n",
      "    https://scikit-learn.org/stable/modules/preprocessing.html\n",
      "Please also refer to the documentation for alternative solver options:\n",
      "    https://scikit-learn.org/stable/modules/linear_model.html#logistic-regression\n",
      "  n_iter_i = _check_optimize_result(\n",
      "/usr/local/lib/python3.8/dist-packages/sklearn/linear_model/_sag.py:329: ConvergenceWarning: The max_iter was reached which means the coef_ did not converge\n",
      "  warnings.warn(\"The max_iter was reached which means \"\n",
      "/usr/local/lib/python3.8/dist-packages/sklearn/linear_model/_sag.py:329: ConvergenceWarning: The max_iter was reached which means the coef_ did not converge\n",
      "  warnings.warn(\"The max_iter was reached which means \"\n",
      "/usr/local/lib/python3.8/dist-packages/sklearn/linear_model/_sag.py:329: ConvergenceWarning: The max_iter was reached which means the coef_ did not converge\n",
      "  warnings.warn(\"The max_iter was reached which means \"\n",
      "/usr/local/lib/python3.8/dist-packages/sklearn/linear_model/_sag.py:329: ConvergenceWarning: The max_iter was reached which means the coef_ did not converge\n",
      "  warnings.warn(\"The max_iter was reached which means \"\n",
      "/usr/local/lib/python3.8/dist-packages/sklearn/linear_model/_sag.py:329: ConvergenceWarning: The max_iter was reached which means the coef_ did not converge\n",
      "  warnings.warn(\"The max_iter was reached which means \"\n",
      "/usr/local/lib/python3.8/dist-packages/sklearn/linear_model/_sag.py:329: ConvergenceWarning: The max_iter was reached which means the coef_ did not converge\n",
      "  warnings.warn(\"The max_iter was reached which means \"\n",
      "/usr/local/lib/python3.8/dist-packages/sklearn/linear_model/_sag.py:329: ConvergenceWarning: The max_iter was reached which means the coef_ did not converge\n",
      "  warnings.warn(\"The max_iter was reached which means \"\n",
      "/usr/local/lib/python3.8/dist-packages/sklearn/linear_model/_sag.py:329: ConvergenceWarning: The max_iter was reached which means the coef_ did not converge\n",
      "  warnings.warn(\"The max_iter was reached which means \"\n",
      "/usr/local/lib/python3.8/dist-packages/sklearn/linear_model/_sag.py:329: ConvergenceWarning: The max_iter was reached which means the coef_ did not converge\n",
      "  warnings.warn(\"The max_iter was reached which means \"\n",
      "/usr/local/lib/python3.8/dist-packages/sklearn/linear_model/_sag.py:329: ConvergenceWarning: The max_iter was reached which means the coef_ did not converge\n",
      "  warnings.warn(\"The max_iter was reached which means \"\n",
      "/usr/local/lib/python3.8/dist-packages/sklearn/linear_model/_sag.py:329: ConvergenceWarning: The max_iter was reached which means the coef_ did not converge\n",
      "  warnings.warn(\"The max_iter was reached which means \"\n",
      "/usr/local/lib/python3.8/dist-packages/sklearn/linear_model/_sag.py:329: ConvergenceWarning: The max_iter was reached which means the coef_ did not converge\n",
      "  warnings.warn(\"The max_iter was reached which means \"\n",
      "/usr/local/lib/python3.8/dist-packages/sklearn/linear_model/_sag.py:329: ConvergenceWarning: The max_iter was reached which means the coef_ did not converge\n",
      "  warnings.warn(\"The max_iter was reached which means \"\n",
      "/usr/local/lib/python3.8/dist-packages/sklearn/linear_model/_sag.py:329: ConvergenceWarning: The max_iter was reached which means the coef_ did not converge\n",
      "  warnings.warn(\"The max_iter was reached which means \"\n"
     ]
    },
    {
     "name": "stderr",
     "output_type": "stream",
     "text": [
      "/usr/local/lib/python3.8/dist-packages/sklearn/linear_model/_sag.py:329: ConvergenceWarning: The max_iter was reached which means the coef_ did not converge\n",
      "  warnings.warn(\"The max_iter was reached which means \"\n",
      "/usr/local/lib/python3.8/dist-packages/sklearn/linear_model/_sag.py:329: ConvergenceWarning: The max_iter was reached which means the coef_ did not converge\n",
      "  warnings.warn(\"The max_iter was reached which means \"\n"
     ]
    },
    {
     "data": {
      "text/plain": [
       "(0.6365415124272872,\n",
       " LogisticRegression(penalty='none', random_state=0, solver='sag'),\n",
       " {'penalty': 'none', 'solver': 'sag'})"
      ]
     },
     "execution_count": 21,
     "metadata": {},
     "output_type": "execute_result"
    }
   ],
   "source": [
    "clf4_fft = LogisticRegression(random_state=0)\n",
    "params=([{'penalty': ['none'], 'solver': ['newton-cg', 'lbfgs', 'sag','saga']},\n",
    "        {'penalty': ['elasticnet'], 'solver': ['saga']},\n",
    "        {'penalty': ['l2'], 'solver': ['newton-cg', 'lbfgs', 'sag','saga','liblinear']},\n",
    "        {'penalty': ['l1'], 'solver': ['liblinear', 'saga']},])\n",
    "\n",
    "gs=GridSearchCV(clf4_fft,params).fit(X_train,y_train)\n",
    "gs.best_score_, gs.best_estimator_, gs.best_params_"
   ]
  },
  {
   "cell_type": "code",
   "execution_count": 27,
   "metadata": {},
   "outputs": [
    {
     "data": {
      "text/plain": [
       "0.7593984962406015"
      ]
     },
     "execution_count": 27,
     "metadata": {},
     "output_type": "execute_result"
    }
   ],
   "source": [
    "clf5_fft=LogisticRegression(penalty='none', solver='sag', max_iter=10000).fit(X_train, y_train)\n",
    "clf5_fft.score(X_test, y_test)"
   ]
  },
  {
   "cell_type": "code",
   "execution_count": null,
   "metadata": {},
   "outputs": [],
   "source": [
    "clf6_fft = LogisticRegression(random_state=0, max_iter=10000)\n",
    "params=([{'penalty': ['none'], 'solver': ['newton-cg', 'lbfgs', 'sag','saga']},\n",
    "        {'penalty': ['l2'], 'solver': ['newton-cg', 'lbfgs', 'sag','saga','liblinear'], 'C': [0.1, 1, 100]},\n",
    "        {'penalty': ['l1'], 'solver': ['liblinear', 'saga'], 'C': [0.1, 1, 100]},])\n",
    "\n",
    "gs=GridSearchCV(clf6_fft,params).fit(X_train,y_train)\n",
    "gs.best_score_, gs.best_estimator_, gs.best_params_"
   ]
  },
  {
   "cell_type": "code",
   "execution_count": 32,
   "metadata": {},
   "outputs": [
    {
     "data": {
      "text/plain": [
       "0.7669172932330827"
      ]
     },
     "execution_count": 32,
     "metadata": {},
     "output_type": "execute_result"
    }
   ],
   "source": [
    "clf7_fft=LogisticRegression(random_state=0, max_iter=10000, penalty='none', solver='sag', multi_class='multinomial').fit(X_train, y_train)\n",
    "clf8_fft=LogisticRegression(random_state=0, max_iter=10000, penalty='none', solver='sag', multi_class='ovr').fit(X_train, y_train)\n",
    "clf7_fft.score(X_test, y_test), clf8_fft.score(X_test, y_test)"
   ]
  },
  {
   "cell_type": "code",
   "execution_count": 34,
   "metadata": {
    "scrolled": true
   },
   "outputs": [
    {
     "data": {
      "text/plain": [
       "(0.6204124801692227,\n",
       " LogisticRegression(l1_ratio=0, max_iter=10000, multi_class='ovr',\n",
       "                    penalty='elasticnet', random_state=0, solver='saga'),\n",
       " {'l1_ratio': 0, 'multi_class': 'ovr'})"
      ]
     },
     "execution_count": 34,
     "metadata": {},
     "output_type": "execute_result"
    }
   ],
   "source": [
    "clf10_fft=LogisticRegression(random_state=0, max_iter=10000, penalty='elasticnet', solver='saga')\n",
    "params=([{'multi_class': ['ovr', 'multinomial'], 'l1_ratio':[0, 0.25, 0.5, 0.75, 1]}])\n",
    "gs=GridSearchCV(clf10_fft,params).fit(X_train,y_train)\n",
    "gs.best_score_, gs.best_estimator_, gs.best_params_"
   ]
  },
  {
   "cell_type": "code",
   "execution_count": 110,
   "metadata": {},
   "outputs": [
    {
     "data": {
      "text/plain": [
       "0.6766917293233082"
      ]
     },
     "execution_count": 110,
     "metadata": {},
     "output_type": "execute_result"
    }
   ],
   "source": [
    "red4=PCA(.95)\n",
    "X_train_PCA=red4.fit_transform(X_train)\n",
    "X_test_PCA=red4.transform(X_test)\n",
    "clf8_fft=LogisticRegression(random_state=0, max_iter=10000, penalty='none', solver='sag', multi_class='ovr').fit(X_train_PCA, y_train)\n",
    "clf8_fft.score(X_test_PCA, y_test)"
   ]
  },
  {
   "cell_type": "code",
   "execution_count": null,
   "metadata": {},
   "outputs": [],
   "source": [
    "clf11_fft_PCA = LogisticRegression(random_state=0, max_iter=10000)\n",
    "params=([{'penalty': ['none'], 'solver': ['newton-cg', 'lbfgs', 'sag','saga']},\n",
    "        {'penalty': ['elasticnet'], 'solver': ['saga'], 'C': [0.1, 1, 100]},\n",
    "        {'penalty': ['l2'], 'solver': ['newton-cg', 'sag','saga','liblinear'], 'C': [0.1, 1, 100]},\n",
    "        {'penalty': ['l1'], 'solver': ['liblinear', 'saga'], 'C': [0.1, 1, 100]},])\n",
    "\n",
    "gs=GridSearchCV(clf11_fft_PCA,params).fit(X_train_PCA,y_train)\n",
    "gs.best_score_, gs.best_estimator_, gs.best_params_"
   ]
  },
  {
   "cell_type": "code",
   "execution_count": 60,
   "metadata": {},
   "outputs": [
    {
     "data": {
      "text/plain": [
       "(LGBMClassifier(n_estimators=10000, num_leaves=25),\n",
       " 0.386382384669078,\n",
       " 10,\n",
       " {'learning_rate': 0.1, 'n_estimators': 10000, 'num_leaves': 25})"
      ]
     },
     "execution_count": 60,
     "metadata": {},
     "output_type": "execute_result"
    }
   ],
   "source": [
    "lgbm_fft= lgb.LGBMClassifier()\n",
    "param_grid = {\n",
    "    'num_leaves': [25,28,31,33,35],\n",
    "    'learning_rate': [0.001, 0.01, 0.1, 1],\n",
    "    'n_estimators': [10000] #max\n",
    "}\n",
    "gbm = GridSearchCV(lgbm_fft, param_grid, cv=3)\n",
    "gbm.fit(X_train, y_train)\n",
    "gbm.best_estimator_, gbm.best_score_, gbm.best_index_, gbm.best_params_"
   ]
  },
  {
   "cell_type": "code",
   "execution_count": 7,
   "metadata": {},
   "outputs": [
    {
     "data": {
      "text/plain": [
       "(LGBMClassifier(learning_rate=0.001, n_estimators=10000, num_leaves=25),\n",
       " 0.6915730693571928,\n",
       " 0,\n",
       " {'learning_rate': 0.001, 'n_estimators': 10000, 'num_leaves': 25})"
      ]
     },
     "execution_count": 7,
     "metadata": {},
     "output_type": "execute_result"
    }
   ],
   "source": [
    "red4=PCA(.95)\n",
    "X_train_PCA=red4.fit_transform(X_train)\n",
    "X_test_PCA=red4.transform(X_test)\n",
    "\n",
    "lgbm_fft_PCA= lgb.LGBMClassifier()\n",
    "param_grid = {\n",
    "    'num_leaves': [25,28,31,33,35],\n",
    "    'learning_rate': [0.001, 0.01, 0.1, 1],\n",
    "    'n_estimators': [10000] #max\n",
    "}\n",
    "gbm = GridSearchCV(lgbm_fft_PCA, param_grid)\n",
    "gbm.fit(X_train_PCA, y_train)\n",
    "gbm.best_estimator_, gbm.best_score_, gbm.best_index_, gbm.best_params_"
   ]
  },
  {
   "cell_type": "code",
   "execution_count": 61,
   "metadata": {},
   "outputs": [
    {
     "name": "stdout",
     "output_type": "stream",
     "text": [
      "[1]\tvalid_0's multi_error: 0.714286\tvalid_0's multi_logloss: 1.38901\n",
      "Training until validation scores don't improve for 100 rounds\n",
      "[2]\tvalid_0's multi_error: 0.714286\tvalid_0's multi_logloss: 1.38876\n",
      "[3]\tvalid_0's multi_error: 0.714286\tvalid_0's multi_logloss: 1.38852\n",
      "[4]\tvalid_0's multi_error: 0.714286\tvalid_0's multi_logloss: 1.38826\n",
      "[5]\tvalid_0's multi_error: 0.714286\tvalid_0's multi_logloss: 1.38801\n",
      "[6]\tvalid_0's multi_error: 0.714286\tvalid_0's multi_logloss: 1.38777\n",
      "[7]\tvalid_0's multi_error: 0.714286\tvalid_0's multi_logloss: 1.38752\n",
      "[8]\tvalid_0's multi_error: 0.714286\tvalid_0's multi_logloss: 1.38728\n",
      "[9]\tvalid_0's multi_error: 0.714286\tvalid_0's multi_logloss: 1.38703\n",
      "[10]\tvalid_0's multi_error: 0.714286\tvalid_0's multi_logloss: 1.38678\n",
      "[11]\tvalid_0's multi_error: 0.714286\tvalid_0's multi_logloss: 1.38654\n",
      "[12]\tvalid_0's multi_error: 0.714286\tvalid_0's multi_logloss: 1.3863\n",
      "[13]\tvalid_0's multi_error: 0.714286\tvalid_0's multi_logloss: 1.38607\n",
      "[14]\tvalid_0's multi_error: 0.714286\tvalid_0's multi_logloss: 1.38582\n",
      "[15]\tvalid_0's multi_error: 0.714286\tvalid_0's multi_logloss: 1.38559\n",
      "[16]\tvalid_0's multi_error: 0.714286\tvalid_0's multi_logloss: 1.38534\n",
      "[17]\tvalid_0's multi_error: 0.714286\tvalid_0's multi_logloss: 1.38511\n",
      "[18]\tvalid_0's multi_error: 0.714286\tvalid_0's multi_logloss: 1.38487\n",
      "[19]\tvalid_0's multi_error: 0.714286\tvalid_0's multi_logloss: 1.38463\n",
      "[20]\tvalid_0's multi_error: 0.714286\tvalid_0's multi_logloss: 1.3844\n",
      "[21]\tvalid_0's multi_error: 0.714286\tvalid_0's multi_logloss: 1.38417\n",
      "[22]\tvalid_0's multi_error: 0.714286\tvalid_0's multi_logloss: 1.38393\n",
      "[23]\tvalid_0's multi_error: 0.714286\tvalid_0's multi_logloss: 1.38372\n",
      "[24]\tvalid_0's multi_error: 0.714286\tvalid_0's multi_logloss: 1.38346\n",
      "[25]\tvalid_0's multi_error: 0.714286\tvalid_0's multi_logloss: 1.38325\n",
      "[26]\tvalid_0's multi_error: 0.714286\tvalid_0's multi_logloss: 1.38304\n",
      "[27]\tvalid_0's multi_error: 0.714286\tvalid_0's multi_logloss: 1.38277\n",
      "[28]\tvalid_0's multi_error: 0.714286\tvalid_0's multi_logloss: 1.38259\n",
      "[29]\tvalid_0's multi_error: 0.714286\tvalid_0's multi_logloss: 1.38233\n",
      "[30]\tvalid_0's multi_error: 0.714286\tvalid_0's multi_logloss: 1.38215\n",
      "[31]\tvalid_0's multi_error: 0.714286\tvalid_0's multi_logloss: 1.38195\n",
      "[32]\tvalid_0's multi_error: 0.714286\tvalid_0's multi_logloss: 1.38169\n",
      "[33]\tvalid_0's multi_error: 0.714286\tvalid_0's multi_logloss: 1.38152\n",
      "[34]\tvalid_0's multi_error: 0.714286\tvalid_0's multi_logloss: 1.38129\n",
      "[35]\tvalid_0's multi_error: 0.714286\tvalid_0's multi_logloss: 1.38113\n",
      "[36]\tvalid_0's multi_error: 0.714286\tvalid_0's multi_logloss: 1.38089\n",
      "[37]\tvalid_0's multi_error: 0.714286\tvalid_0's multi_logloss: 1.3807\n",
      "[38]\tvalid_0's multi_error: 0.714286\tvalid_0's multi_logloss: 1.38051\n",
      "[39]\tvalid_0's multi_error: 0.714286\tvalid_0's multi_logloss: 1.38027\n",
      "[40]\tvalid_0's multi_error: 0.714286\tvalid_0's multi_logloss: 1.38011\n",
      "[41]\tvalid_0's multi_error: 0.714286\tvalid_0's multi_logloss: 1.37985\n",
      "[42]\tvalid_0's multi_error: 0.714286\tvalid_0's multi_logloss: 1.37969\n",
      "[43]\tvalid_0's multi_error: 0.714286\tvalid_0's multi_logloss: 1.37947\n",
      "[44]\tvalid_0's multi_error: 0.714286\tvalid_0's multi_logloss: 1.37925\n",
      "[45]\tvalid_0's multi_error: 0.714286\tvalid_0's multi_logloss: 1.37908\n",
      "[46]\tvalid_0's multi_error: 0.714286\tvalid_0's multi_logloss: 1.37881\n",
      "[47]\tvalid_0's multi_error: 0.714286\tvalid_0's multi_logloss: 1.37863\n",
      "[48]\tvalid_0's multi_error: 0.721805\tvalid_0's multi_logloss: 1.37841\n",
      "[49]\tvalid_0's multi_error: 0.721805\tvalid_0's multi_logloss: 1.37818\n",
      "[50]\tvalid_0's multi_error: 0.721805\tvalid_0's multi_logloss: 1.37794\n",
      "[51]\tvalid_0's multi_error: 0.721805\tvalid_0's multi_logloss: 1.37773\n",
      "[52]\tvalid_0's multi_error: 0.721805\tvalid_0's multi_logloss: 1.37751\n",
      "[53]\tvalid_0's multi_error: 0.721805\tvalid_0's multi_logloss: 1.37726\n",
      "[54]\tvalid_0's multi_error: 0.714286\tvalid_0's multi_logloss: 1.37705\n",
      "[55]\tvalid_0's multi_error: 0.714286\tvalid_0's multi_logloss: 1.37682\n",
      "[56]\tvalid_0's multi_error: 0.714286\tvalid_0's multi_logloss: 1.37662\n",
      "[57]\tvalid_0's multi_error: 0.714286\tvalid_0's multi_logloss: 1.37636\n",
      "[58]\tvalid_0's multi_error: 0.714286\tvalid_0's multi_logloss: 1.37618\n",
      "[59]\tvalid_0's multi_error: 0.714286\tvalid_0's multi_logloss: 1.37592\n",
      "[60]\tvalid_0's multi_error: 0.714286\tvalid_0's multi_logloss: 1.37571\n",
      "[61]\tvalid_0's multi_error: 0.714286\tvalid_0's multi_logloss: 1.37551\n",
      "[62]\tvalid_0's multi_error: 0.714286\tvalid_0's multi_logloss: 1.37524\n",
      "[63]\tvalid_0's multi_error: 0.714286\tvalid_0's multi_logloss: 1.37503\n",
      "[64]\tvalid_0's multi_error: 0.714286\tvalid_0's multi_logloss: 1.37481\n",
      "[65]\tvalid_0's multi_error: 0.714286\tvalid_0's multi_logloss: 1.3746\n",
      "[66]\tvalid_0's multi_error: 0.714286\tvalid_0's multi_logloss: 1.37433\n",
      "[67]\tvalid_0's multi_error: 0.714286\tvalid_0's multi_logloss: 1.37416\n",
      "[68]\tvalid_0's multi_error: 0.714286\tvalid_0's multi_logloss: 1.37394\n",
      "[69]\tvalid_0's multi_error: 0.714286\tvalid_0's multi_logloss: 1.37369\n",
      "[70]\tvalid_0's multi_error: 0.714286\tvalid_0's multi_logloss: 1.37348\n",
      "[71]\tvalid_0's multi_error: 0.714286\tvalid_0's multi_logloss: 1.37327\n",
      "[72]\tvalid_0's multi_error: 0.714286\tvalid_0's multi_logloss: 1.37301\n",
      "[73]\tvalid_0's multi_error: 0.714286\tvalid_0's multi_logloss: 1.37278\n",
      "[74]\tvalid_0's multi_error: 0.714286\tvalid_0's multi_logloss: 1.37258\n",
      "[75]\tvalid_0's multi_error: 0.714286\tvalid_0's multi_logloss: 1.37234\n",
      "[76]\tvalid_0's multi_error: 0.714286\tvalid_0's multi_logloss: 1.37215\n",
      "[77]\tvalid_0's multi_error: 0.714286\tvalid_0's multi_logloss: 1.37189\n",
      "[78]\tvalid_0's multi_error: 0.714286\tvalid_0's multi_logloss: 1.37171\n",
      "[79]\tvalid_0's multi_error: 0.714286\tvalid_0's multi_logloss: 1.37143\n",
      "[80]\tvalid_0's multi_error: 0.714286\tvalid_0's multi_logloss: 1.37122\n",
      "[81]\tvalid_0's multi_error: 0.714286\tvalid_0's multi_logloss: 1.37101\n",
      "[82]\tvalid_0's multi_error: 0.714286\tvalid_0's multi_logloss: 1.37082\n",
      "[83]\tvalid_0's multi_error: 0.706767\tvalid_0's multi_logloss: 1.37061\n",
      "[84]\tvalid_0's multi_error: 0.706767\tvalid_0's multi_logloss: 1.37044\n",
      "[85]\tvalid_0's multi_error: 0.706767\tvalid_0's multi_logloss: 1.37022\n",
      "[86]\tvalid_0's multi_error: 0.706767\tvalid_0's multi_logloss: 1.37007\n",
      "[87]\tvalid_0's multi_error: 0.706767\tvalid_0's multi_logloss: 1.36986\n",
      "[88]\tvalid_0's multi_error: 0.706767\tvalid_0's multi_logloss: 1.36959\n",
      "[89]\tvalid_0's multi_error: 0.699248\tvalid_0's multi_logloss: 1.36946\n",
      "[90]\tvalid_0's multi_error: 0.691729\tvalid_0's multi_logloss: 1.36926\n",
      "[91]\tvalid_0's multi_error: 0.691729\tvalid_0's multi_logloss: 1.36907\n",
      "[92]\tvalid_0's multi_error: 0.699248\tvalid_0's multi_logloss: 1.36889\n",
      "[93]\tvalid_0's multi_error: 0.691729\tvalid_0's multi_logloss: 1.36874\n",
      "[94]\tvalid_0's multi_error: 0.699248\tvalid_0's multi_logloss: 1.36856\n",
      "[95]\tvalid_0's multi_error: 0.699248\tvalid_0's multi_logloss: 1.36835\n",
      "[96]\tvalid_0's multi_error: 0.691729\tvalid_0's multi_logloss: 1.36819\n",
      "[97]\tvalid_0's multi_error: 0.691729\tvalid_0's multi_logloss: 1.36799\n",
      "[98]\tvalid_0's multi_error: 0.691729\tvalid_0's multi_logloss: 1.36781\n",
      "[99]\tvalid_0's multi_error: 0.691729\tvalid_0's multi_logloss: 1.36765\n",
      "[100]\tvalid_0's multi_error: 0.691729\tvalid_0's multi_logloss: 1.36745\n",
      "[101]\tvalid_0's multi_error: 0.691729\tvalid_0's multi_logloss: 1.36736\n",
      "[102]\tvalid_0's multi_error: 0.691729\tvalid_0's multi_logloss: 1.36725\n",
      "[103]\tvalid_0's multi_error: 0.691729\tvalid_0's multi_logloss: 1.36717\n",
      "[104]\tvalid_0's multi_error: 0.691729\tvalid_0's multi_logloss: 1.36707\n",
      "[105]\tvalid_0's multi_error: 0.691729\tvalid_0's multi_logloss: 1.36698\n",
      "[106]\tvalid_0's multi_error: 0.691729\tvalid_0's multi_logloss: 1.36684\n",
      "[107]\tvalid_0's multi_error: 0.691729\tvalid_0's multi_logloss: 1.36679\n",
      "[108]\tvalid_0's multi_error: 0.684211\tvalid_0's multi_logloss: 1.3667\n",
      "[109]\tvalid_0's multi_error: 0.684211\tvalid_0's multi_logloss: 1.3666\n",
      "[110]\tvalid_0's multi_error: 0.684211\tvalid_0's multi_logloss: 1.3665\n",
      "[111]\tvalid_0's multi_error: 0.684211\tvalid_0's multi_logloss: 1.36639\n",
      "[112]\tvalid_0's multi_error: 0.684211\tvalid_0's multi_logloss: 1.36631\n",
      "[113]\tvalid_0's multi_error: 0.684211\tvalid_0's multi_logloss: 1.36613\n",
      "[114]\tvalid_0's multi_error: 0.684211\tvalid_0's multi_logloss: 1.36601\n",
      "[115]\tvalid_0's multi_error: 0.691729\tvalid_0's multi_logloss: 1.3659\n",
      "[116]\tvalid_0's multi_error: 0.684211\tvalid_0's multi_logloss: 1.3658\n",
      "[117]\tvalid_0's multi_error: 0.684211\tvalid_0's multi_logloss: 1.36562\n",
      "[118]\tvalid_0's multi_error: 0.684211\tvalid_0's multi_logloss: 1.36555\n",
      "[119]\tvalid_0's multi_error: 0.676692\tvalid_0's multi_logloss: 1.36535\n",
      "[120]\tvalid_0's multi_error: 0.676692\tvalid_0's multi_logloss: 1.36511\n",
      "[121]\tvalid_0's multi_error: 0.676692\tvalid_0's multi_logloss: 1.36505\n",
      "[122]\tvalid_0's multi_error: 0.676692\tvalid_0's multi_logloss: 1.36481\n",
      "[123]\tvalid_0's multi_error: 0.676692\tvalid_0's multi_logloss: 1.36466\n",
      "[124]\tvalid_0's multi_error: 0.676692\tvalid_0's multi_logloss: 1.36456\n",
      "[125]\tvalid_0's multi_error: 0.684211\tvalid_0's multi_logloss: 1.36435\n",
      "[126]\tvalid_0's multi_error: 0.684211\tvalid_0's multi_logloss: 1.36417\n",
      "[127]\tvalid_0's multi_error: 0.691729\tvalid_0's multi_logloss: 1.36409\n",
      "[128]\tvalid_0's multi_error: 0.691729\tvalid_0's multi_logloss: 1.36389\n",
      "[129]\tvalid_0's multi_error: 0.699248\tvalid_0's multi_logloss: 1.36369\n",
      "[130]\tvalid_0's multi_error: 0.699248\tvalid_0's multi_logloss: 1.36358\n",
      "[131]\tvalid_0's multi_error: 0.699248\tvalid_0's multi_logloss: 1.36343\n",
      "[132]\tvalid_0's multi_error: 0.699248\tvalid_0's multi_logloss: 1.36319\n",
      "[133]\tvalid_0's multi_error: 0.699248\tvalid_0's multi_logloss: 1.36308\n",
      "[134]\tvalid_0's multi_error: 0.691729\tvalid_0's multi_logloss: 1.36293\n",
      "[135]\tvalid_0's multi_error: 0.691729\tvalid_0's multi_logloss: 1.36266\n",
      "[136]\tvalid_0's multi_error: 0.691729\tvalid_0's multi_logloss: 1.36262\n",
      "[137]\tvalid_0's multi_error: 0.691729\tvalid_0's multi_logloss: 1.36229\n",
      "[138]\tvalid_0's multi_error: 0.691729\tvalid_0's multi_logloss: 1.36221\n",
      "[139]\tvalid_0's multi_error: 0.691729\tvalid_0's multi_logloss: 1.36199\n",
      "[140]\tvalid_0's multi_error: 0.691729\tvalid_0's multi_logloss: 1.36181\n",
      "[141]\tvalid_0's multi_error: 0.691729\tvalid_0's multi_logloss: 1.3617\n",
      "[142]\tvalid_0's multi_error: 0.691729\tvalid_0's multi_logloss: 1.36151\n",
      "[143]\tvalid_0's multi_error: 0.691729\tvalid_0's multi_logloss: 1.36127\n"
     ]
    },
    {
     "name": "stdout",
     "output_type": "stream",
     "text": [
      "[144]\tvalid_0's multi_error: 0.691729\tvalid_0's multi_logloss: 1.3612\n",
      "[145]\tvalid_0's multi_error: 0.691729\tvalid_0's multi_logloss: 1.36098\n",
      "[146]\tvalid_0's multi_error: 0.691729\tvalid_0's multi_logloss: 1.36087\n",
      "[147]\tvalid_0's multi_error: 0.691729\tvalid_0's multi_logloss: 1.36069\n",
      "[148]\tvalid_0's multi_error: 0.691729\tvalid_0's multi_logloss: 1.3604\n",
      "[149]\tvalid_0's multi_error: 0.691729\tvalid_0's multi_logloss: 1.36032\n",
      "[150]\tvalid_0's multi_error: 0.691729\tvalid_0's multi_logloss: 1.36007\n",
      "[151]\tvalid_0's multi_error: 0.691729\tvalid_0's multi_logloss: 1.35999\n",
      "[152]\tvalid_0's multi_error: 0.684211\tvalid_0's multi_logloss: 1.35975\n",
      "[153]\tvalid_0's multi_error: 0.676692\tvalid_0's multi_logloss: 1.35954\n",
      "[154]\tvalid_0's multi_error: 0.676692\tvalid_0's multi_logloss: 1.35935\n",
      "[155]\tvalid_0's multi_error: 0.676692\tvalid_0's multi_logloss: 1.35927\n",
      "[156]\tvalid_0's multi_error: 0.676692\tvalid_0's multi_logloss: 1.35906\n",
      "[157]\tvalid_0's multi_error: 0.676692\tvalid_0's multi_logloss: 1.35888\n",
      "[158]\tvalid_0's multi_error: 0.676692\tvalid_0's multi_logloss: 1.35869\n",
      "[159]\tvalid_0's multi_error: 0.676692\tvalid_0's multi_logloss: 1.35845\n",
      "[160]\tvalid_0's multi_error: 0.676692\tvalid_0's multi_logloss: 1.35837\n",
      "[161]\tvalid_0's multi_error: 0.676692\tvalid_0's multi_logloss: 1.35814\n",
      "[162]\tvalid_0's multi_error: 0.676692\tvalid_0's multi_logloss: 1.35794\n",
      "[163]\tvalid_0's multi_error: 0.676692\tvalid_0's multi_logloss: 1.35785\n",
      "[164]\tvalid_0's multi_error: 0.669173\tvalid_0's multi_logloss: 1.35765\n",
      "[165]\tvalid_0's multi_error: 0.669173\tvalid_0's multi_logloss: 1.35759\n",
      "[166]\tvalid_0's multi_error: 0.669173\tvalid_0's multi_logloss: 1.35741\n",
      "[167]\tvalid_0's multi_error: 0.669173\tvalid_0's multi_logloss: 1.35722\n",
      "[168]\tvalid_0's multi_error: 0.669173\tvalid_0's multi_logloss: 1.35702\n",
      "[169]\tvalid_0's multi_error: 0.669173\tvalid_0's multi_logloss: 1.35689\n",
      "[170]\tvalid_0's multi_error: 0.669173\tvalid_0's multi_logloss: 1.35667\n",
      "[171]\tvalid_0's multi_error: 0.669173\tvalid_0's multi_logloss: 1.35652\n",
      "[172]\tvalid_0's multi_error: 0.669173\tvalid_0's multi_logloss: 1.35628\n",
      "[173]\tvalid_0's multi_error: 0.669173\tvalid_0's multi_logloss: 1.35608\n",
      "[174]\tvalid_0's multi_error: 0.676692\tvalid_0's multi_logloss: 1.35595\n",
      "[175]\tvalid_0's multi_error: 0.676692\tvalid_0's multi_logloss: 1.35572\n",
      "[176]\tvalid_0's multi_error: 0.676692\tvalid_0's multi_logloss: 1.35558\n",
      "[177]\tvalid_0's multi_error: 0.676692\tvalid_0's multi_logloss: 1.3554\n",
      "[178]\tvalid_0's multi_error: 0.676692\tvalid_0's multi_logloss: 1.35517\n",
      "[179]\tvalid_0's multi_error: 0.676692\tvalid_0's multi_logloss: 1.355\n",
      "[180]\tvalid_0's multi_error: 0.676692\tvalid_0's multi_logloss: 1.35485\n",
      "[181]\tvalid_0's multi_error: 0.669173\tvalid_0's multi_logloss: 1.35456\n",
      "[182]\tvalid_0's multi_error: 0.669173\tvalid_0's multi_logloss: 1.35444\n",
      "[183]\tvalid_0's multi_error: 0.661654\tvalid_0's multi_logloss: 1.35422\n",
      "[184]\tvalid_0's multi_error: 0.661654\tvalid_0's multi_logloss: 1.354\n",
      "[185]\tvalid_0's multi_error: 0.661654\tvalid_0's multi_logloss: 1.35383\n",
      "[186]\tvalid_0's multi_error: 0.661654\tvalid_0's multi_logloss: 1.3536\n",
      "[187]\tvalid_0's multi_error: 0.661654\tvalid_0's multi_logloss: 1.35346\n",
      "[188]\tvalid_0's multi_error: 0.661654\tvalid_0's multi_logloss: 1.35323\n",
      "[189]\tvalid_0's multi_error: 0.661654\tvalid_0's multi_logloss: 1.35305\n",
      "[190]\tvalid_0's multi_error: 0.661654\tvalid_0's multi_logloss: 1.35287\n",
      "[191]\tvalid_0's multi_error: 0.661654\tvalid_0's multi_logloss: 1.35261\n",
      "[192]\tvalid_0's multi_error: 0.661654\tvalid_0's multi_logloss: 1.35249\n",
      "[193]\tvalid_0's multi_error: 0.661654\tvalid_0's multi_logloss: 1.3523\n",
      "[194]\tvalid_0's multi_error: 0.661654\tvalid_0's multi_logloss: 1.35211\n",
      "[195]\tvalid_0's multi_error: 0.661654\tvalid_0's multi_logloss: 1.35196\n",
      "[196]\tvalid_0's multi_error: 0.661654\tvalid_0's multi_logloss: 1.35173\n",
      "[197]\tvalid_0's multi_error: 0.661654\tvalid_0's multi_logloss: 1.35157\n",
      "[198]\tvalid_0's multi_error: 0.661654\tvalid_0's multi_logloss: 1.35141\n",
      "[199]\tvalid_0's multi_error: 0.661654\tvalid_0's multi_logloss: 1.35125\n",
      "[200]\tvalid_0's multi_error: 0.661654\tvalid_0's multi_logloss: 1.35108\n",
      "[201]\tvalid_0's multi_error: 0.661654\tvalid_0's multi_logloss: 1.35087\n",
      "[202]\tvalid_0's multi_error: 0.661654\tvalid_0's multi_logloss: 1.35073\n",
      "[203]\tvalid_0's multi_error: 0.661654\tvalid_0's multi_logloss: 1.35051\n",
      "[204]\tvalid_0's multi_error: 0.661654\tvalid_0's multi_logloss: 1.35035\n",
      "[205]\tvalid_0's multi_error: 0.661654\tvalid_0's multi_logloss: 1.35021\n",
      "[206]\tvalid_0's multi_error: 0.661654\tvalid_0's multi_logloss: 1.34999\n",
      "[207]\tvalid_0's multi_error: 0.661654\tvalid_0's multi_logloss: 1.34983\n",
      "[208]\tvalid_0's multi_error: 0.661654\tvalid_0's multi_logloss: 1.34959\n",
      "[209]\tvalid_0's multi_error: 0.661654\tvalid_0's multi_logloss: 1.34943\n",
      "[210]\tvalid_0's multi_error: 0.661654\tvalid_0's multi_logloss: 1.34926\n",
      "[211]\tvalid_0's multi_error: 0.661654\tvalid_0's multi_logloss: 1.34903\n",
      "[212]\tvalid_0's multi_error: 0.661654\tvalid_0's multi_logloss: 1.34889\n",
      "[213]\tvalid_0's multi_error: 0.661654\tvalid_0's multi_logloss: 1.34875\n",
      "[214]\tvalid_0's multi_error: 0.661654\tvalid_0's multi_logloss: 1.3485\n",
      "[215]\tvalid_0's multi_error: 0.661654\tvalid_0's multi_logloss: 1.34836\n",
      "[216]\tvalid_0's multi_error: 0.661654\tvalid_0's multi_logloss: 1.34819\n",
      "[217]\tvalid_0's multi_error: 0.661654\tvalid_0's multi_logloss: 1.34808\n",
      "[218]\tvalid_0's multi_error: 0.669173\tvalid_0's multi_logloss: 1.34787\n",
      "[219]\tvalid_0's multi_error: 0.669173\tvalid_0's multi_logloss: 1.34767\n",
      "[220]\tvalid_0's multi_error: 0.669173\tvalid_0's multi_logloss: 1.34752\n",
      "[221]\tvalid_0's multi_error: 0.661654\tvalid_0's multi_logloss: 1.34719\n",
      "[222]\tvalid_0's multi_error: 0.661654\tvalid_0's multi_logloss: 1.34708\n",
      "[223]\tvalid_0's multi_error: 0.661654\tvalid_0's multi_logloss: 1.34686\n",
      "[224]\tvalid_0's multi_error: 0.661654\tvalid_0's multi_logloss: 1.34661\n",
      "[225]\tvalid_0's multi_error: 0.661654\tvalid_0's multi_logloss: 1.34642\n",
      "[226]\tvalid_0's multi_error: 0.654135\tvalid_0's multi_logloss: 1.3462\n",
      "[227]\tvalid_0's multi_error: 0.661654\tvalid_0's multi_logloss: 1.3461\n",
      "[228]\tvalid_0's multi_error: 0.661654\tvalid_0's multi_logloss: 1.34586\n",
      "[229]\tvalid_0's multi_error: 0.654135\tvalid_0's multi_logloss: 1.34566\n",
      "[230]\tvalid_0's multi_error: 0.661654\tvalid_0's multi_logloss: 1.34552\n",
      "[231]\tvalid_0's multi_error: 0.661654\tvalid_0's multi_logloss: 1.34524\n",
      "[232]\tvalid_0's multi_error: 0.654135\tvalid_0's multi_logloss: 1.34511\n",
      "[233]\tvalid_0's multi_error: 0.654135\tvalid_0's multi_logloss: 1.34495\n",
      "[234]\tvalid_0's multi_error: 0.654135\tvalid_0's multi_logloss: 1.34476\n",
      "[235]\tvalid_0's multi_error: 0.661654\tvalid_0's multi_logloss: 1.34459\n",
      "[236]\tvalid_0's multi_error: 0.654135\tvalid_0's multi_logloss: 1.34447\n",
      "[237]\tvalid_0's multi_error: 0.654135\tvalid_0's multi_logloss: 1.34421\n",
      "[238]\tvalid_0's multi_error: 0.661654\tvalid_0's multi_logloss: 1.34405\n",
      "[239]\tvalid_0's multi_error: 0.654135\tvalid_0's multi_logloss: 1.34384\n",
      "[240]\tvalid_0's multi_error: 0.654135\tvalid_0's multi_logloss: 1.34371\n",
      "[241]\tvalid_0's multi_error: 0.661654\tvalid_0's multi_logloss: 1.34352\n",
      "[242]\tvalid_0's multi_error: 0.654135\tvalid_0's multi_logloss: 1.34335\n",
      "[243]\tvalid_0's multi_error: 0.654135\tvalid_0's multi_logloss: 1.34324\n",
      "[244]\tvalid_0's multi_error: 0.646617\tvalid_0's multi_logloss: 1.34308\n",
      "[245]\tvalid_0's multi_error: 0.639098\tvalid_0's multi_logloss: 1.34288\n",
      "[246]\tvalid_0's multi_error: 0.646617\tvalid_0's multi_logloss: 1.34277\n",
      "[247]\tvalid_0's multi_error: 0.639098\tvalid_0's multi_logloss: 1.34264\n",
      "[248]\tvalid_0's multi_error: 0.654135\tvalid_0's multi_logloss: 1.34246\n",
      "[249]\tvalid_0's multi_error: 0.646617\tvalid_0's multi_logloss: 1.34224\n",
      "[250]\tvalid_0's multi_error: 0.639098\tvalid_0's multi_logloss: 1.34208\n",
      "[251]\tvalid_0's multi_error: 0.646617\tvalid_0's multi_logloss: 1.34192\n",
      "[252]\tvalid_0's multi_error: 0.646617\tvalid_0's multi_logloss: 1.3417\n",
      "[253]\tvalid_0's multi_error: 0.646617\tvalid_0's multi_logloss: 1.3415\n",
      "[254]\tvalid_0's multi_error: 0.639098\tvalid_0's multi_logloss: 1.34137\n",
      "[255]\tvalid_0's multi_error: 0.646617\tvalid_0's multi_logloss: 1.34116\n",
      "[256]\tvalid_0's multi_error: 0.646617\tvalid_0's multi_logloss: 1.341\n",
      "[257]\tvalid_0's multi_error: 0.646617\tvalid_0's multi_logloss: 1.34083\n",
      "[258]\tvalid_0's multi_error: 0.646617\tvalid_0's multi_logloss: 1.34066\n",
      "[259]\tvalid_0's multi_error: 0.646617\tvalid_0's multi_logloss: 1.34047\n",
      "[260]\tvalid_0's multi_error: 0.646617\tvalid_0's multi_logloss: 1.34031\n",
      "[261]\tvalid_0's multi_error: 0.646617\tvalid_0's multi_logloss: 1.34017\n",
      "[262]\tvalid_0's multi_error: 0.646617\tvalid_0's multi_logloss: 1.34006\n",
      "[263]\tvalid_0's multi_error: 0.646617\tvalid_0's multi_logloss: 1.33986\n",
      "[264]\tvalid_0's multi_error: 0.646617\tvalid_0's multi_logloss: 1.33975\n",
      "[265]\tvalid_0's multi_error: 0.646617\tvalid_0's multi_logloss: 1.33957\n",
      "[266]\tvalid_0's multi_error: 0.646617\tvalid_0's multi_logloss: 1.33944\n",
      "[267]\tvalid_0's multi_error: 0.654135\tvalid_0's multi_logloss: 1.33926\n",
      "[268]\tvalid_0's multi_error: 0.654135\tvalid_0's multi_logloss: 1.33916\n",
      "[269]\tvalid_0's multi_error: 0.654135\tvalid_0's multi_logloss: 1.33897\n",
      "[270]\tvalid_0's multi_error: 0.654135\tvalid_0's multi_logloss: 1.33881\n",
      "[271]\tvalid_0's multi_error: 0.654135\tvalid_0's multi_logloss: 1.33869\n",
      "[272]\tvalid_0's multi_error: 0.654135\tvalid_0's multi_logloss: 1.33847\n",
      "[273]\tvalid_0's multi_error: 0.654135\tvalid_0's multi_logloss: 1.33831\n",
      "[274]\tvalid_0's multi_error: 0.654135\tvalid_0's multi_logloss: 1.33812\n",
      "[275]\tvalid_0's multi_error: 0.654135\tvalid_0's multi_logloss: 1.33803\n",
      "[276]\tvalid_0's multi_error: 0.654135\tvalid_0's multi_logloss: 1.33785\n",
      "[277]\tvalid_0's multi_error: 0.654135\tvalid_0's multi_logloss: 1.33771\n",
      "[278]\tvalid_0's multi_error: 0.654135\tvalid_0's multi_logloss: 1.33752\n",
      "[279]\tvalid_0's multi_error: 0.654135\tvalid_0's multi_logloss: 1.33739\n",
      "[280]\tvalid_0's multi_error: 0.654135\tvalid_0's multi_logloss: 1.33729\n",
      "[281]\tvalid_0's multi_error: 0.646617\tvalid_0's multi_logloss: 1.33712\n"
     ]
    },
    {
     "name": "stdout",
     "output_type": "stream",
     "text": [
      "[282]\tvalid_0's multi_error: 0.654135\tvalid_0's multi_logloss: 1.33698\n",
      "[283]\tvalid_0's multi_error: 0.646617\tvalid_0's multi_logloss: 1.33687\n",
      "[284]\tvalid_0's multi_error: 0.654135\tvalid_0's multi_logloss: 1.33669\n",
      "[285]\tvalid_0's multi_error: 0.654135\tvalid_0's multi_logloss: 1.3366\n",
      "[286]\tvalid_0's multi_error: 0.646617\tvalid_0's multi_logloss: 1.33644\n",
      "[287]\tvalid_0's multi_error: 0.654135\tvalid_0's multi_logloss: 1.33631\n",
      "[288]\tvalid_0's multi_error: 0.661654\tvalid_0's multi_logloss: 1.33611\n",
      "[289]\tvalid_0's multi_error: 0.661654\tvalid_0's multi_logloss: 1.33601\n",
      "[290]\tvalid_0's multi_error: 0.661654\tvalid_0's multi_logloss: 1.33582\n",
      "[291]\tvalid_0's multi_error: 0.654135\tvalid_0's multi_logloss: 1.33559\n",
      "[292]\tvalid_0's multi_error: 0.661654\tvalid_0's multi_logloss: 1.33557\n",
      "[293]\tvalid_0's multi_error: 0.654135\tvalid_0's multi_logloss: 1.33538\n",
      "[294]\tvalid_0's multi_error: 0.654135\tvalid_0's multi_logloss: 1.33516\n",
      "[295]\tvalid_0's multi_error: 0.654135\tvalid_0's multi_logloss: 1.33517\n",
      "[296]\tvalid_0's multi_error: 0.654135\tvalid_0's multi_logloss: 1.33502\n",
      "[297]\tvalid_0's multi_error: 0.654135\tvalid_0's multi_logloss: 1.3348\n",
      "[298]\tvalid_0's multi_error: 0.654135\tvalid_0's multi_logloss: 1.33469\n",
      "[299]\tvalid_0's multi_error: 0.654135\tvalid_0's multi_logloss: 1.33448\n",
      "[300]\tvalid_0's multi_error: 0.654135\tvalid_0's multi_logloss: 1.33439\n",
      "[301]\tvalid_0's multi_error: 0.654135\tvalid_0's multi_logloss: 1.33417\n",
      "[302]\tvalid_0's multi_error: 0.654135\tvalid_0's multi_logloss: 1.33412\n",
      "[303]\tvalid_0's multi_error: 0.654135\tvalid_0's multi_logloss: 1.33398\n",
      "[304]\tvalid_0's multi_error: 0.654135\tvalid_0's multi_logloss: 1.33375\n",
      "[305]\tvalid_0's multi_error: 0.654135\tvalid_0's multi_logloss: 1.3336\n",
      "[306]\tvalid_0's multi_error: 0.654135\tvalid_0's multi_logloss: 1.33348\n",
      "[307]\tvalid_0's multi_error: 0.654135\tvalid_0's multi_logloss: 1.3332\n",
      "[308]\tvalid_0's multi_error: 0.654135\tvalid_0's multi_logloss: 1.33315\n",
      "[309]\tvalid_0's multi_error: 0.654135\tvalid_0's multi_logloss: 1.333\n",
      "[310]\tvalid_0's multi_error: 0.654135\tvalid_0's multi_logloss: 1.33281\n",
      "[311]\tvalid_0's multi_error: 0.654135\tvalid_0's multi_logloss: 1.33263\n",
      "[312]\tvalid_0's multi_error: 0.654135\tvalid_0's multi_logloss: 1.33243\n",
      "[313]\tvalid_0's multi_error: 0.654135\tvalid_0's multi_logloss: 1.33242\n",
      "[314]\tvalid_0's multi_error: 0.654135\tvalid_0's multi_logloss: 1.33231\n",
      "[315]\tvalid_0's multi_error: 0.654135\tvalid_0's multi_logloss: 1.33226\n",
      "[316]\tvalid_0's multi_error: 0.654135\tvalid_0's multi_logloss: 1.33209\n",
      "[317]\tvalid_0's multi_error: 0.654135\tvalid_0's multi_logloss: 1.33189\n",
      "[318]\tvalid_0's multi_error: 0.654135\tvalid_0's multi_logloss: 1.33175\n",
      "[319]\tvalid_0's multi_error: 0.654135\tvalid_0's multi_logloss: 1.33158\n",
      "[320]\tvalid_0's multi_error: 0.654135\tvalid_0's multi_logloss: 1.33149\n",
      "[321]\tvalid_0's multi_error: 0.654135\tvalid_0's multi_logloss: 1.33152\n",
      "[322]\tvalid_0's multi_error: 0.654135\tvalid_0's multi_logloss: 1.33136\n",
      "[323]\tvalid_0's multi_error: 0.654135\tvalid_0's multi_logloss: 1.33124\n",
      "[324]\tvalid_0's multi_error: 0.654135\tvalid_0's multi_logloss: 1.33107\n",
      "[325]\tvalid_0's multi_error: 0.654135\tvalid_0's multi_logloss: 1.33099\n",
      "[326]\tvalid_0's multi_error: 0.654135\tvalid_0's multi_logloss: 1.33076\n",
      "[327]\tvalid_0's multi_error: 0.654135\tvalid_0's multi_logloss: 1.33067\n",
      "[328]\tvalid_0's multi_error: 0.654135\tvalid_0's multi_logloss: 1.33045\n",
      "[329]\tvalid_0's multi_error: 0.654135\tvalid_0's multi_logloss: 1.33044\n",
      "[330]\tvalid_0's multi_error: 0.654135\tvalid_0's multi_logloss: 1.33028\n",
      "[331]\tvalid_0's multi_error: 0.654135\tvalid_0's multi_logloss: 1.33007\n",
      "[332]\tvalid_0's multi_error: 0.654135\tvalid_0's multi_logloss: 1.3299\n",
      "[333]\tvalid_0's multi_error: 0.654135\tvalid_0's multi_logloss: 1.3299\n",
      "[334]\tvalid_0's multi_error: 0.654135\tvalid_0's multi_logloss: 1.32966\n",
      "[335]\tvalid_0's multi_error: 0.654135\tvalid_0's multi_logloss: 1.32959\n",
      "[336]\tvalid_0's multi_error: 0.654135\tvalid_0's multi_logloss: 1.32947\n",
      "[337]\tvalid_0's multi_error: 0.654135\tvalid_0's multi_logloss: 1.32937\n",
      "[338]\tvalid_0's multi_error: 0.654135\tvalid_0's multi_logloss: 1.3293\n",
      "[339]\tvalid_0's multi_error: 0.654135\tvalid_0's multi_logloss: 1.32911\n",
      "[340]\tvalid_0's multi_error: 0.654135\tvalid_0's multi_logloss: 1.32892\n",
      "[341]\tvalid_0's multi_error: 0.654135\tvalid_0's multi_logloss: 1.32884\n",
      "[342]\tvalid_0's multi_error: 0.646617\tvalid_0's multi_logloss: 1.3286\n",
      "[343]\tvalid_0's multi_error: 0.646617\tvalid_0's multi_logloss: 1.32842\n",
      "[344]\tvalid_0's multi_error: 0.646617\tvalid_0's multi_logloss: 1.32818\n",
      "[345]\tvalid_0's multi_error: 0.646617\tvalid_0's multi_logloss: 1.3281\n",
      "Early stopping, best iteration is:\n",
      "[245]\tvalid_0's multi_error: 0.639098\tvalid_0's multi_logloss: 1.34288\n"
     ]
    },
    {
     "data": {
      "text/plain": [
       "0.3609022556390977"
      ]
     },
     "execution_count": 61,
     "metadata": {},
     "output_type": "execute_result"
    }
   ],
   "source": [
    "red4=PCA(.95)\n",
    "X_train_PCA=red4.fit_transform(X_train)\n",
    "X_test_PCA=red4.transform(X_test)\n",
    "\n",
    "gbm = lgb.LGBMClassifier(num_leaves=15,\n",
    "                        learning_rate=0.001,\n",
    "                        n_estimators=20000)#                        max_depth=10)             \n",
    "gbm.fit(X_train_PCA, y_train,\n",
    "eval_set=[(X_test_PCA, y_test)],\n",
    "eval_metric=['multi_error','multiclass'],\n",
    "early_stopping_rounds=100)\n",
    "\n",
    "\n",
    "gbm.score(X_test_PCA, y_test)"
   ]
  },
  {
   "cell_type": "code",
   "execution_count": null,
   "metadata": {},
   "outputs": [],
   "source": []
  },
  {
   "cell_type": "code",
   "execution_count": null,
   "metadata": {},
   "outputs": [],
   "source": []
  }
 ],
 "metadata": {
  "kernelspec": {
   "display_name": "Python 3",
   "language": "python",
   "name": "python3"
  },
  "language_info": {
   "codemirror_mode": {
    "name": "ipython",
    "version": 3
   },
   "file_extension": ".py",
   "mimetype": "text/x-python",
   "name": "python",
   "nbconvert_exporter": "python",
   "pygments_lexer": "ipython3",
   "version": "3.8.2"
  }
 },
 "nbformat": 4,
 "nbformat_minor": 4
}
